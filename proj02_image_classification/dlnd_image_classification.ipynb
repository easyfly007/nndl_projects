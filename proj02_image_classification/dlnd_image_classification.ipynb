{
 "cells": [
  {
   "cell_type": "markdown",
   "metadata": {
    "collapsed": true,
    "deletable": true,
    "editable": true
   },
   "source": [
    "# Image Classification\n",
    "In this project, you'll classify images from the [CIFAR-10 dataset](https://www.cs.toronto.edu/~kriz/cifar.html).  The dataset consists of airplanes, dogs, cats, and other objects. You'll preprocess the images, then train a convolutional neural network on all the samples. The images need to be normalized and the labels need to be one-hot encoded.  You'll get to apply what you learned and build a convolutional, max pooling, dropout, and fully connected layers.  At the end, you'll get to see your neural network's predictions on the sample images.\n",
    "## Get the Data\n",
    "Run the following cell to download the [CIFAR-10 dataset for python](https://www.cs.toronto.edu/~kriz/cifar-10-python.tar.gz)."
   ]
  },
  {
   "cell_type": "code",
   "execution_count": 1,
   "metadata": {
    "collapsed": false,
    "deletable": true,
    "editable": true
   },
   "outputs": [
    {
     "name": "stdout",
     "output_type": "stream",
     "text": [
      "All files found!\n"
     ]
    }
   ],
   "source": [
    "\"\"\"\n",
    "DON'T MODIFY ANYTHING IN THIS CELL THAT IS BELOW THIS LINE\n",
    "\"\"\"\n",
    "from urllib.request import urlretrieve\n",
    "from os.path import isfile, isdir\n",
    "from tqdm import tqdm\n",
    "import problem_unittests as tests\n",
    "import tarfile\n",
    "\n",
    "cifar10_dataset_folder_path = 'cifar-10-batches-py'\n",
    "\n",
    "# Use Floyd's cifar-10 dataset if present\n",
    "floyd_cifar10_location = '/input/cifar-10/python.tar.gz'\n",
    "if isfile(floyd_cifar10_location):\n",
    "    tar_gz_path = floyd_cifar10_location\n",
    "else:\n",
    "    tar_gz_path = 'cifar-10-python.tar.gz'\n",
    "\n",
    "class DLProgress(tqdm):\n",
    "    last_block = 0\n",
    "\n",
    "    def hook(self, block_num=1, block_size=1, total_size=None):\n",
    "        self.total = total_size\n",
    "        self.update((block_num - self.last_block) * block_size)\n",
    "        self.last_block = block_num\n",
    "\n",
    "if not isfile(tar_gz_path):\n",
    "    with DLProgress(unit='B', unit_scale=True, miniters=1, desc='CIFAR-10 Dataset') as pbar:\n",
    "        urlretrieve(\n",
    "            'https://www.cs.toronto.edu/~kriz/cifar-10-python.tar.gz',\n",
    "            tar_gz_path,\n",
    "            pbar.hook)\n",
    "\n",
    "if not isdir(cifar10_dataset_folder_path):\n",
    "    with tarfile.open(tar_gz_path) as tar:\n",
    "        tar.extractall()\n",
    "        tar.close()\n",
    "\n",
    "\n",
    "tests.test_folder_path(cifar10_dataset_folder_path)"
   ]
  },
  {
   "cell_type": "markdown",
   "metadata": {
    "deletable": true,
    "editable": true
   },
   "source": [
    "## Explore the Data\n",
    "The dataset is broken into batches to prevent your machine from running out of memory.  The CIFAR-10 dataset consists of 5 batches, named `data_batch_1`, `data_batch_2`, etc.. Each batch contains the labels and images that are one of the following:\n",
    "* airplane\n",
    "* automobile\n",
    "* bird\n",
    "* cat\n",
    "* deer\n",
    "* dog\n",
    "* frog\n",
    "* horse\n",
    "* ship\n",
    "* truck\n",
    "\n",
    "Understanding a dataset is part of making predictions on the data.  Play around with the code cell below by changing the `batch_id` and `sample_id`. The `batch_id` is the id for a batch (1-5). The `sample_id` is the id for a image and label pair in the batch.\n",
    "\n",
    "Ask yourself \"What are all possible labels?\", \"What is the range of values for the image data?\", \"Are the labels in order or random?\".  Answers to questions like these will help you preprocess the data and end up with better predictions."
   ]
  },
  {
   "cell_type": "code",
   "execution_count": 2,
   "metadata": {
    "collapsed": false,
    "deletable": true,
    "editable": true
   },
   "outputs": [
    {
     "name": "stdout",
     "output_type": "stream",
     "text": [
      "\n",
      "Stats of batch 2:\n",
      "Samples: 10000\n",
      "Label Counts: {0: 984, 1: 1007, 2: 1010, 3: 995, 4: 1010, 5: 988, 6: 1008, 7: 1026, 8: 987, 9: 985}\n",
      "First 20 Labels: [1, 6, 6, 8, 8, 3, 4, 6, 0, 6, 0, 3, 6, 6, 5, 4, 8, 3, 2, 6]\n",
      "\n",
      "Example of Image 15:\n",
      "Image - Min Value: 1 Max Value: 225\n",
      "Image - Shape: (32, 32, 3)\n",
      "Label - Label Id: 4 Name: deer\n"
     ]
    },
    {
     "data": {
      "image/png": "[encoded data removed]",
      "text/plain": [
       "<matplotlib.figure.Figure at 0x7f724d574710>"
      ]
     },
     "metadata": {
      "image/png": {
       "height": 250,
       "width": 253
      }
     },
     "output_type": "display_data"
    }
   ],
   "source": [
    "%matplotlib inline\n",
    "%config InlineBackend.figure_format = 'retina'\n",
    "\n",
    "import helper\n",
    "import numpy as np\n",
    "\n",
    "# Explore the dataset\n",
    "batch_id = 2\n",
    "sample_id = 15\n",
    "helper.display_stats(cifar10_dataset_folder_path, batch_id, sample_id)"
   ]
  },
  {
   "cell_type": "markdown",
   "metadata": {
    "deletable": true,
    "editable": true
   },
   "source": [
    "## Implement Preprocess Functions\n",
    "### Normalize\n",
    "In the cell below, implement the `normalize` function to take in image data, `x`, and return it as a normalized Numpy array. The values should be in the range of 0 to 1, inclusive.  The return object should be the same shape as `x`."
   ]
  },
  {
   "cell_type": "code",
   "execution_count": 3,
   "metadata": {
    "collapsed": false,
    "deletable": true,
    "editable": true
   },
   "outputs": [
    {
     "name": "stdout",
     "output_type": "stream",
     "text": [
      "Tests Passed\n"
     ]
    }
   ],
   "source": [
    "def normalize(x):\n",
    "    \"\"\"\n",
    "    Normalize a list of sample image data in the range of 0 to 1\n",
    "    : x: List of image data.  The image shape is (32, 32, 3)\n",
    "    : return: Numpy array of normalize data\n",
    "    \"\"\"\n",
    "    # TODO: Implement Function\n",
    "    return np.divide(x, 256)\n",
    "\n",
    "\n",
    "\"\"\"\n",
    "DON'T MODIFY ANYTHING IN THIS CELL THAT IS BELOW THIS LINE\n",
    "\"\"\"\n",
    "tests.test_normalize(normalize)"
   ]
  },
  {
   "cell_type": "markdown",
   "metadata": {
    "deletable": true,
    "editable": true
   },
   "source": [
    "### One-hot encode\n",
    "Just like the previous code cell, you'll be implementing a function for preprocessing.  This time, you'll implement the `one_hot_encode` function. The input, `x`, are a list of labels.  Implement the function to return the list of labels as One-Hot encoded Numpy array.  The possible values for labels are 0 to 9. The one-hot encoding function should return the same encoding for each value between each call to `one_hot_encode`.  Make sure to save the map of encodings outside the function.\n",
    "\n",
    "Hint: Don't reinvent the wheel."
   ]
  },
  {
   "cell_type": "code",
   "execution_count": 4,
   "metadata": {
    "collapsed": false,
    "deletable": true,
    "editable": true
   },
   "outputs": [
    {
     "name": "stdout",
     "output_type": "stream",
     "text": [
      "Tests Passed\n"
     ]
    }
   ],
   "source": [
    "def one_hot_encode(x):\n",
    "    \"\"\"\n",
    "    One hot encode a list of sample labels. Return a one-hot encoded vector for each label.\n",
    "    : x: List of sample Labels\n",
    "    : return: Numpy array of one-hot encoded labels\n",
    "    \"\"\"\n",
    "    # TODO: Implement Function\n",
    "    label_type_cnt = 10\n",
    "    encoded = np.zeros([len(x), label_type_cnt])\n",
    "    encoded[np.arange(len(x)), x] = 1\n",
    "    return encoded\n",
    "\n",
    "\n",
    "\"\"\"\n",
    "DON'T MODIFY ANYTHING IN THIS CELL THAT IS BELOW THIS LINE\n",
    "\"\"\"\n",
    "tests.test_one_hot_encode(one_hot_encode)"
   ]
  },
  {
   "cell_type": "markdown",
   "metadata": {
    "deletable": true,
    "editable": true
   },
   "source": [
    "### Randomize Data\n",
    "As you saw from exploring the data above, the order of the samples are randomized.  It doesn't hurt to randomize it again, but you don't need to for this dataset."
   ]
  },
  {
   "cell_type": "markdown",
   "metadata": {
    "deletable": true,
    "editable": true
   },
   "source": [
    "## Preprocess all the data and save it\n",
    "Running the code cell below will preprocess all the CIFAR-10 data and save it to file. The code below also uses 10% of the training data for validation."
   ]
  },
  {
   "cell_type": "code",
   "execution_count": 52,
   "metadata": {
    "collapsed": false,
    "deletable": true,
    "editable": true
   },
   "outputs": [],
   "source": [
    "\"\"\"\n",
    "DON'T MODIFY ANYTHING IN THIS CELL\n",
    "\"\"\"\n",
    "# Preprocess Training, Validation, and Testing Data\n",
    "helper.preprocess_and_save_data(cifar10_dataset_folder_path, normalize, one_hot_encode)"
   ]
  },
  {
   "cell_type": "markdown",
   "metadata": {
    "deletable": true,
    "editable": true
   },
   "source": [
    "# Check Point\n",
    "This is your first checkpoint.  If you ever decide to come back to this notebook or have to restart the notebook, you can start from here.  The preprocessed data has been saved to disk."
   ]
  },
  {
   "cell_type": "code",
   "execution_count": 5,
   "metadata": {
    "collapsed": true,
    "deletable": true,
    "editable": true
   },
   "outputs": [],
   "source": [
    "\"\"\"\n",
    "DON'T MODIFY ANYTHING IN THIS CELL\n",
    "\"\"\"\n",
    "import pickle\n",
    "import problem_unittests as tests\n",
    "import helper\n",
    "\n",
    "# Load the Preprocessed Validation data\n",
    "valid_features, valid_labels = pickle.load(open('preprocess_validation.p', mode='rb'))"
   ]
  },
  {
   "cell_type": "markdown",
   "metadata": {
    "deletable": true,
    "editable": true
   },
   "source": [
    "## Build the network\n",
    "For the neural network, you'll build each layer into a function.  Most of the code you've seen has been outside of functions. To test your code more thoroughly, we require that you put each layer in a function.  This allows us to give you better feedback and test for simple mistakes using our unittests before you submit your project.\n",
    "\n",
    ">**Note:** If you're finding it hard to dedicate enough time for this course each week, we've provided a small shortcut to this part of the project. In the next couple of problems, you'll have the option to use classes from the [TensorFlow Layers](https://www.tensorflow.org/api_docs/python/tf/layers) or [TensorFlow Layers (contrib)](https://www.tensorflow.org/api_guides/python/contrib.layers) packages to build each layer, except the layers you build in the \"Convolutional and Max Pooling Layer\" section.  TF Layers is similar to Keras's and TFLearn's abstraction to layers, so it's easy to pickup.\n",
    "\n",
    ">However, if you would like to get the most out of this course, try to solve all the problems _without_ using anything from the TF Layers packages. You **can** still use classes from other packages that happen to have the same name as ones you find in TF Layers! For example, instead of using the TF Layers version of the `conv2d` class, [tf.layers.conv2d](https://www.tensorflow.org/api_docs/python/tf/layers/conv2d), you would want to use the TF Neural Network version of `conv2d`, [tf.nn.conv2d](https://www.tensorflow.org/api_docs/python/tf/nn/conv2d). \n",
    "\n",
    "Let's begin!\n",
    "\n",
    "### Input\n",
    "The neural network needs to read the image data, one-hot encoded labels, and dropout keep probability. Implement the following functions\n",
    "* Implement `neural_net_image_input`\n",
    " * Return a [TF Placeholder](https://www.tensorflow.org/api_docs/python/tf/placeholder)\n",
    " * Set the shape using `image_shape` with batch size set to `None`.\n",
    " * Name the TensorFlow placeholder \"x\" using the TensorFlow `name` parameter in the [TF Placeholder](https://www.tensorflow.org/api_docs/python/tf/placeholder).\n",
    "* Implement `neural_net_label_input`\n",
    " * Return a [TF Placeholder](https://www.tensorflow.org/api_docs/python/tf/placeholder)\n",
    " * Set the shape using `n_classes` with batch size set to `None`.\n",
    " * Name the TensorFlow placeholder \"y\" using the TensorFlow `name` parameter in the [TF Placeholder](https://www.tensorflow.org/api_docs/python/tf/placeholder).\n",
    "* Implement `neural_net_keep_prob_input`\n",
    " * Return a [TF Placeholder](https://www.tensorflow.org/api_docs/python/tf/placeholder) for dropout keep probability.\n",
    " * Name the TensorFlow placeholder \"keep_prob\" using the TensorFlow `name` parameter in the [TF Placeholder](https://www.tensorflow.org/api_docs/python/tf/placeholder).\n",
    "\n",
    "These names will be used at the end of the project to load your saved model.\n",
    "\n",
    "Note: `None` for shapes in TensorFlow allow for a dynamic size."
   ]
  },
  {
   "cell_type": "code",
   "execution_count": 6,
   "metadata": {
    "collapsed": false,
    "deletable": true,
    "editable": true
   },
   "outputs": [
    {
     "name": "stdout",
     "output_type": "stream",
     "text": [
      "Image Input Tests Passed.\n",
      "Label Input Tests Passed.\n",
      "Keep Prob Tests Passed.\n"
     ]
    }
   ],
   "source": [
    "import tensorflow as tf\n",
    "\n",
    "def neural_net_image_input(image_shape):\n",
    "    \"\"\"\n",
    "    Return a Tensor for a batch of image input\n",
    "    : image_shape: Shape of the images\n",
    "    : return: Tensor for image input.\n",
    "    \"\"\"\n",
    "    # TODO: Implement Function\n",
    "\n",
    "    return tf.placeholder(tf.float32, shape = [None,  image_shape[0], image_shape[1], image_shape[2]], name = 'x')\n",
    "\n",
    "\n",
    "def neural_net_label_input(n_classes):\n",
    "    \"\"\"\n",
    "    Return a Tensor for a batch of label input\n",
    "    : n_classes: Number of classes\n",
    "    : return: Tensor for label input.\n",
    "    \"\"\"\n",
    "    # TODO: Implement Function\n",
    "\n",
    "    return tf.placeholder(tf.float32, shape = [None, n_classes], name = 'y')\n",
    "\n",
    "\n",
    "def neural_net_keep_prob_input():\n",
    "    \"\"\"\n",
    "    Return a Tensor for keep probability\n",
    "    : return: Tensor for keep probability.\n",
    "    \"\"\"\n",
    "    # TODO: Implement Function\n",
    "    return tf.placeholder(tf.float32, name = 'keep_prob')\n",
    "\n",
    "\n",
    "\"\"\"\n",
    "DON'T MODIFY ANYTHING IN THIS CELL THAT IS BELOW THIS LINE\n",
    "\"\"\"\n",
    "tf.reset_default_graph()\n",
    "tests.test_nn_image_inputs(neural_net_image_input)\n",
    "tests.test_nn_label_inputs(neural_net_label_input)\n",
    "tests.test_nn_keep_prob_inputs(neural_net_keep_prob_input)"
   ]
  },
  {
   "cell_type": "markdown",
   "metadata": {
    "deletable": true,
    "editable": true
   },
   "source": [
    "### Convolution and Max Pooling Layer\n",
    "Convolution layers have a lot of success with images. For this code cell, you should implement the function `conv2d_maxpool` to apply convolution then max pooling:\n",
    "* Create the weight and bias using `conv_ksize`, `conv_num_outputs` and the shape of `x_tensor`.\n",
    "* Apply a convolution to `x_tensor` using weight and `conv_strides`.\n",
    " * We recommend you use same padding, but you're welcome to use any padding.\n",
    "* Add bias\n",
    "* Add a nonlinear activation to the convolution.\n",
    "* Apply Max Pooling using `pool_ksize` and `pool_strides`.\n",
    " * We recommend you use same padding, but you're welcome to use any padding.\n",
    "\n",
    "**Note:** You **can't** use [TensorFlow Layers](https://www.tensorflow.org/api_docs/python/tf/layers) or [TensorFlow Layers (contrib)](https://www.tensorflow.org/api_guides/python/contrib.layers) for **this** layer, but you can still use TensorFlow's [Neural Network](https://www.tensorflow.org/api_docs/python/tf/nn) package. You may still use the shortcut option for all the **other** layers."
   ]
  },
  {
   "cell_type": "code",
   "execution_count": 7,
   "metadata": {
    "collapsed": false,
    "deletable": true,
    "editable": true
   },
   "outputs": [
    {
     "name": "stdout",
     "output_type": "stream",
     "text": [
      "Tests Passed\n"
     ]
    }
   ],
   "source": [
    "def conv2d_maxpool(x_tensor, conv_num_outputs, conv_ksize, conv_strides, pool_ksize, pool_strides):\n",
    "    \"\"\"\n",
    "    Apply convolution then max pooling to x_tensor\n",
    "    :param x_tensor: TensorFlow Tensor\n",
    "    :param conv_num_outputs: Number of outputs for the convolutional layer\n",
    "    :param conv_ksize: kernal size 2-D Tuple for the convolutional layer\n",
    "    :param conv_strides: Stride 2-D Tuple for convolution\n",
    "    :param pool_ksize: kernal size 2-D Tuple for pool\n",
    "    :param pool_strides: Stride 2-D Tuple for pool\n",
    "    : return: A tensor that represents convolution and max pooling of x_tensor\n",
    "    \"\"\"\n",
    "    # TODO: Implement Function\n",
    "    \n",
    "    x_layer_shape = x_tensor.get_shape().as_list()\n",
    "    # x_layer_shape = [batch, weidth, height, kernel]\n",
    "    w_shape = [conv_ksize[0], conv_ksize[1], x_layer_shape[3], conv_num_outputs]\n",
    "    \n",
    "    w = tf.Variable(tf.truncated_normal(w_shape, mean = 0.0, stddev = 0.1))\n",
    "    b = tf.Variable(tf.zeros(conv_num_outputs))\n",
    "    x_conv = tf.nn.conv2d(x_tensor, w, strides=[1, conv_strides[0], conv_strides[1], 1], padding='SAME')\n",
    "    x_conv = tf.nn.bias_add(x_conv, b)\n",
    "    x_conv = tf.nn.relu(x_conv)\n",
    "    x_pooling = tf.nn.max_pool(x_conv, ksize = [1, pool_ksize[0], pool_ksize[1], 1], \n",
    "                               strides = [1, pool_strides[0], pool_strides[1], 1], padding= 'SAME')\n",
    "    return x_pooling \n",
    "\n",
    "\n",
    "\n",
    "\"\"\"\n",
    "DON'T MODIFY ANYTHING IN THIS CELL THAT IS BELOW THIS LINE\n",
    "\"\"\"\n",
    "tests.test_con_pool(conv2d_maxpool)"
   ]
  },
  {
   "cell_type": "markdown",
   "metadata": {
    "deletable": true,
    "editable": true
   },
   "source": [
    "### Flatten Layer\n",
    "Implement the `flatten` function to change the dimension of `x_tensor` from a 4-D tensor to a 2-D tensor.  The output should be the shape (*Batch Size*, *Flattened Image Size*). Shortcut option: you can use classes from the [TensorFlow Layers](https://www.tensorflow.org/api_docs/python/tf/layers) or [TensorFlow Layers (contrib)](https://www.tensorflow.org/api_guides/python/contrib.layers) packages for this layer. For more of a challenge, only use other TensorFlow packages."
   ]
  },
  {
   "cell_type": "code",
   "execution_count": 8,
   "metadata": {
    "collapsed": false,
    "deletable": true,
    "editable": true
   },
   "outputs": [
    {
     "name": "stdout",
     "output_type": "stream",
     "text": [
      "Tests Passed\n"
     ]
    }
   ],
   "source": [
    "def flatten(x_tensor):\n",
    "    \"\"\"\n",
    "    Flatten x_tensor to (Batch Size, Flattened Image Size)\n",
    "    : x_tensor: A tensor of size (Batch Size, ...), where ... are the image dimensions.\n",
    "    : return: A tensor of size (Batch Size, Flattened Image Size).\n",
    "    \"\"\"\n",
    "    # TODO: Implement Function\n",
    "    x_shape = x_tensor.get_shape().as_list()\n",
    "    #print(x_tensor.get_shape().as_list())\n",
    "#     return tf.reshape(x_tensor, [None, x_shape[1]*x_shape[2]*x_shape[3]])\n",
    "#     return tf.contrib.layers.flatten(x_tensor, [None, x_shape[1]*x_shape[2]*x_shape[3]])\n",
    "    return tf.contrib.layers.flatten(x_tensor)\n",
    "#     return tf.reshape(x_tensor, [-1, x_shape[1]*x_shape[2]*x_shape[3]])\n",
    "\n",
    "\n",
    "\"\"\"\n",
    "DON'T MODIFY ANYTHING IN THIS CELL THAT IS BELOW THIS LINE\n",
    "\"\"\"\n",
    "tests.test_flatten(flatten)"
   ]
  },
  {
   "cell_type": "markdown",
   "metadata": {
    "deletable": true,
    "editable": true
   },
   "source": [
    "### Fully-Connected Layer\n",
    "Implement the `fully_conn` function to apply a fully connected layer to `x_tensor` with the shape (*Batch Size*, *num_outputs*). Shortcut option: you can use classes from the [TensorFlow Layers](https://www.tensorflow.org/api_docs/python/tf/layers) or [TensorFlow Layers (contrib)](https://www.tensorflow.org/api_guides/python/contrib.layers) packages for this layer. For more of a challenge, only use other TensorFlow packages."
   ]
  },
  {
   "cell_type": "code",
   "execution_count": 9,
   "metadata": {
    "collapsed": false,
    "deletable": true,
    "editable": true
   },
   "outputs": [
    {
     "name": "stdout",
     "output_type": "stream",
     "text": [
      "Tests Passed\n"
     ]
    }
   ],
   "source": [
    "def fully_conn(x_tensor, num_outputs):\n",
    "    \"\"\"\n",
    "    Apply a fully connected layer to x_tensor using weight and bias\n",
    "    : x_tensor: A 2-D tensor where the first dimension is batch size.\n",
    "    : num_outputs: The number of output that the new tensor should be.\n",
    "    : return: A 2-D tensor where the second dimension is num_outputs.\n",
    "    \"\"\"\n",
    "    # TODO: Implement Function\n",
    "#     w_shape = [x_tensor.get_shape().as_list()[1], num_outputs]\n",
    "#     w = tf.Variable(tf.random_normal(w_shape))\n",
    "#     b = tf.Variable(tf.random_normal([num_outputs]))\n",
    "#     y = tf.matmul(x_tensor, w)\n",
    "#     y = tf.nn.bias_add(y, b)\n",
    "#     y = tf.nn.relu(y)\n",
    "#     y = tf.nn.dropout(y, keep_prob)\n",
    "    return tf.contrib.layers.fully_connected(x_tensor, num_outputs, activation_fn=tf.nn.relu)\n",
    "\n",
    "\"\"\"\n",
    "DON'T MODIFY ANYTHING IN THIS CELL THAT IS BELOW THIS LINE\n",
    "\"\"\"\n",
    "tests.test_fully_conn(fully_conn)"
   ]
  },
  {
   "cell_type": "markdown",
   "metadata": {
    "deletable": true,
    "editable": true
   },
   "source": [
    "### Output Layer\n",
    "Implement the `output` function to apply a fully connected layer to `x_tensor` with the shape (*Batch Size*, *num_outputs*). Shortcut option: you can use classes from the [TensorFlow Layers](https://www.tensorflow.org/api_docs/python/tf/layers) or [TensorFlow Layers (contrib)](https://www.tensorflow.org/api_guides/python/contrib.layers) packages for this layer. For more of a challenge, only use other TensorFlow packages.\n",
    "\n",
    "**Note:** Activation, softmax, or cross entropy should **not** be applied to this."
   ]
  },
  {
   "cell_type": "code",
   "execution_count": 10,
   "metadata": {
    "collapsed": false,
    "deletable": true,
    "editable": true
   },
   "outputs": [
    {
     "name": "stdout",
     "output_type": "stream",
     "text": [
      "Tests Passed\n"
     ]
    }
   ],
   "source": [
    "def output(x_tensor, num_outputs):\n",
    "    \"\"\"\n",
    "    Apply a output layer to x_tensor using weight and bias\n",
    "    : x_tensor: A 2-D tensor where the first dimension is batch size.\n",
    "    : num_outputs: The number of output that the new tensor should be.\n",
    "    : return: A 2-D tensor where the second dimension is num_outputs.\n",
    "    \"\"\"\n",
    "    # TODO: Implement Function\n",
    "#     w_shape = [x_tensor.get_shape().as_list()[1], num_outputs]\n",
    "#     w = tf.Variable(tf.random_normal(w_shape))\n",
    "#     b = tf.Variable(tf.random_normal([num_outputs]))\n",
    "#     y = tf.matmul(x_tensor, w)\n",
    "#     y = tf.nn.bias_add(y, b)\n",
    "    return tf.contrib.layers.fully_connected(x_tensor, num_outputs, activation_fn=None)\n",
    "\n",
    "\n",
    "\"\"\"\n",
    "DON'T MODIFY ANYTHING IN THIS CELL THAT IS BELOW THIS LINE\n",
    "\"\"\"\n",
    "tests.test_output(output)"
   ]
  },
  {
   "cell_type": "markdown",
   "metadata": {
    "deletable": true,
    "editable": true
   },
   "source": [
    "### Create Convolutional Model\n",
    "Implement the function `conv_net` to create a convolutional neural network model. The function takes in a batch of images, `x`, and outputs logits.  Use the layers you created above to create this model:\n",
    "\n",
    "* Apply 1, 2, or 3 Convolution and Max Pool layers\n",
    "* Apply a Flatten Layer\n",
    "* Apply 1, 2, or 3 Fully Connected Layers\n",
    "* Apply an Output Layer\n",
    "* Return the output\n",
    "* Apply [TensorFlow's Dropout](https://www.tensorflow.org/api_docs/python/tf/nn/dropout) to one or more layers in the model using `keep_prob`. "
   ]
  },
  {
   "cell_type": "code",
   "execution_count": 11,
   "metadata": {
    "collapsed": false,
    "deletable": true,
    "editable": true
   },
   "outputs": [
    {
     "name": "stdout",
     "output_type": "stream",
     "text": [
      "conv1 shape: [None, 16, 16, 20]\n",
      "conv2 shape: [None, 4, 4, 20]\n",
      "conv1 shape: [None, 16, 16, 20]\n",
      "conv2 shape: [None, 4, 4, 20]\n",
      "Neural Network Built!\n"
     ]
    }
   ],
   "source": [
    "def conv_net(x, keep_prob):\n",
    "    \"\"\"\n",
    "    Create a convolutional neural network model\n",
    "    : x: Placeholder tensor that holds image data.\n",
    "    : keep_prob: Placeholder tensor that hold dropout keep probability.\n",
    "    : return: Tensor that represents logits\n",
    "    \"\"\"\n",
    "    # TODO: Apply 1, 2, or 3 Convolution and Max Pool layers\n",
    "    #    Play around with different number of outputs, kernel size and stride\n",
    "    # Function Definition from Above:\n",
    "    #    conv2d_maxpool(x_tensor, conv_num_outputs, conv_ksize, conv_strides, pool_ksize, pool_strides)\n",
    "    conv1 = conv2d_maxpool(x, 20, (3, 3), (1,1), (2,2), (2,2))\n",
    "    print('conv1 shape:', conv1.get_shape().as_list())\n",
    "    conv2 = conv2d_maxpool(conv1, 20, (5, 5), (2,2), (2,2), (2,2))\n",
    "    print('conv2 shape:', conv2.get_shape().as_list())\n",
    "    \n",
    "    \n",
    "    # TODO: Apply a Flatten Layer\n",
    "    # Function Definition from Above:\n",
    "    #   flatten(x_tensor)\n",
    "    \n",
    "    flatten_layer = flatten(conv2)\n",
    "\n",
    "    # TODO: Apply 1, 2, or 3 Fully Connected Layers\n",
    "    #    Play around with different number of outputs\n",
    "    # Function Definition from Above:\n",
    "    #   fully_conn(x_tensor, num_outputs)\n",
    "\n",
    "#     dropout = neural_net_keep_prob_input()\n",
    "    full1 = fully_conn(flatten_layer, 200)\n",
    "    full1 = tf.nn.dropout(full1, keep_prob)\n",
    "#     full2 = fully_conn(full1, 100)\n",
    "#     full2 = tf.nn.dropout(full2, keep_prob)\n",
    "    \n",
    "    \n",
    "    # TODO: Apply an Output Layer\n",
    "    #    Set this to the number of classes\n",
    "    # Function Definition from Above:\n",
    "    #   output(x_tensor, num_outputs)\n",
    "    outlayer = output(full1, 10)\n",
    "    \n",
    "    \n",
    "    # TODO: return output\n",
    "    return outlayer\n",
    "\n",
    "\n",
    "\"\"\"\n",
    "DON'T MODIFY ANYTHING IN THIS CELL THAT IS BELOW THIS LINE\n",
    "\"\"\"\n",
    "\n",
    "##############################\n",
    "## Build the Neural Network ##\n",
    "##############################\n",
    "\n",
    "# Remove previous weights, bias, inputs, etc..\n",
    "tf.reset_default_graph()\n",
    "\n",
    "# Inputs\n",
    "x = neural_net_image_input((32, 32, 3))\n",
    "y = neural_net_label_input(10)\n",
    "keep_prob = neural_net_keep_prob_input()\n",
    "\n",
    "\n",
    "# Model\n",
    "logits = conv_net(x, keep_prob)\n",
    "\n",
    "# Name logits Tensor, so that is can be loaded from disk after training\n",
    "logits = tf.identity(logits, name='logits')\n",
    "\n",
    "# Loss and Optimizer\n",
    "cost = tf.reduce_mean(tf.nn.softmax_cross_entropy_with_logits(logits=logits, labels=y))\n",
    "optimizer = tf.train.AdamOptimizer().minimize(cost)\n",
    "\n",
    "# Accuracy\n",
    "correct_pred = tf.equal(tf.argmax(logits, 1), tf.argmax(y, 1))\n",
    "accuracy = tf.reduce_mean(tf.cast(correct_pred, tf.float32), name='accuracy')\n",
    "\n",
    "tests.test_conv_net(conv_net)"
   ]
  },
  {
   "cell_type": "markdown",
   "metadata": {
    "deletable": true,
    "editable": true
   },
   "source": [
    "## Train the Neural Network\n",
    "### Single Optimization\n",
    "Implement the function `train_neural_network` to do a single optimization.  The optimization should use `optimizer` to optimize in `session` with a `feed_dict` of the following:\n",
    "* `x` for image input\n",
    "* `y` for labels\n",
    "* `keep_prob` for keep probability for dropout\n",
    "\n",
    "This function will be called for each batch, so `tf.global_variables_initializer()` has already been called.\n",
    "\n",
    "Note: Nothing needs to be returned. This function is only optimizing the neural network."
   ]
  },
  {
   "cell_type": "code",
   "execution_count": 12,
   "metadata": {
    "collapsed": false,
    "deletable": true,
    "editable": true
   },
   "outputs": [
    {
     "name": "stdout",
     "output_type": "stream",
     "text": [
      "Tests Passed\n"
     ]
    }
   ],
   "source": [
    "def train_neural_network(session, optimizer, keep_probability, feature_batch, label_batch):\n",
    "    \"\"\"\n",
    "    Optimize the session on a batch of images and labels\n",
    "    : session: Current TensorFlow session\n",
    "    : optimizer: TensorFlow optimizer function\n",
    "    : keep_probability: keep probability\n",
    "    : feature_batch: Batch of Numpy image data\n",
    "    : label_batch: Batch of Numpy label data\n",
    "    \"\"\"\n",
    "    # TODO: Implement Function\n",
    "    # session.run(tf.global_variables_initializer())\n",
    "    session.run(optimizer, feed_dict = {x: feature_batch, y: label_batch, keep_prob: keep_probability })\n",
    "\n",
    "\n",
    "\n",
    "\"\"\"\n",
    "DON'T MODIFY ANYTHING IN THIS CELL THAT IS BELOW THIS LINE\n",
    "\"\"\"\n",
    "tests.test_train_nn(train_neural_network)"
   ]
  },
  {
   "cell_type": "markdown",
   "metadata": {
    "deletable": true,
    "editable": true
   },
   "source": [
    "### Show Stats\n",
    "Implement the function `print_stats` to print loss and validation accuracy.  Use the global variables `valid_features` and `valid_labels` to calculate validation accuracy.  Use a keep probability of `1.0` to calculate the loss and validation accuracy."
   ]
  },
  {
   "cell_type": "code",
   "execution_count": 13,
   "metadata": {
    "collapsed": false,
    "deletable": true,
    "editable": true
   },
   "outputs": [],
   "source": [
    "def print_stats(session, feature_batch, label_batch, cost, accuracy):\n",
    "    \"\"\"\n",
    "    Print information about loss and validation accuracy\n",
    "    : session: Current TensorFlow session\n",
    "    : feature_batch: Batch of Numpy image data\n",
    "    : label_batch: Batch of Numpy label data\n",
    "    : cost: TensorFlow cost function\n",
    "    : accuracy: TensorFlow accuracy function\n",
    "    \"\"\"\n",
    "    # TODO: Implement Function\n",
    "    state_loss = session.run(cost, feed_dict={x:feature_batch, y:label_batch, keep_prob: 1.0})\n",
    "    valid_acc = session.run(accuracy, feed_dict = {x:valid_features, y:valid_labels,  keep_prob: 1.0})\n",
    "    print('loss is: ', state_loss, 'valid accuracy is: ', valid_acc)\n"
   ]
  },
  {
   "cell_type": "markdown",
   "metadata": {
    "deletable": true,
    "editable": true
   },
   "source": [
    "### Hyperparameters\n",
    "Tune the following parameters:\n",
    "* Set `epochs` to the number of iterations until the network stops learning or start overfitting\n",
    "* Set `batch_size` to the highest number that your machine has memory for.  Most people set them to common sizes of memory:\n",
    " * 64\n",
    " * 128\n",
    " * 256\n",
    " * ...\n",
    "* Set `keep_probability` to the probability of keeping a node using dropout"
   ]
  },
  {
   "cell_type": "code",
   "execution_count": 15,
   "metadata": {
    "collapsed": true,
    "deletable": true,
    "editable": true
   },
   "outputs": [],
   "source": [
    "# TODO: Tune Parameters\n",
    "epochs = 10\n",
    "batch_size = 128\n",
    "keep_probability = 0.75"
   ]
  },
  {
   "cell_type": "markdown",
   "metadata": {
    "deletable": true,
    "editable": true
   },
   "source": [
    "### Train on a Single CIFAR-10 Batch\n",
    "Instead of training the neural network on all the CIFAR-10 batches of data, let's use a single batch. This should save time while you iterate on the model to get a better accuracy.  Once the final validation accuracy is 50% or greater, run the model on all the data in the next section."
   ]
  },
  {
   "cell_type": "code",
   "execution_count": 16,
   "metadata": {
    "collapsed": false,
    "deletable": true,
    "editable": true,
    "scrolled": false
   },
   "outputs": [
    {
     "name": "stdout",
     "output_type": "stream",
     "text": [
      "Checking the Training on a Single Batch...\n",
      "Epoch  1, CIFAR-10 Batch 1:  loss is:  1.89829 valid accuracy is:  0.3356\n",
      "Epoch  2, CIFAR-10 Batch 1:  loss is:  1.68311 valid accuracy is:  0.4094\n",
      "Epoch  3, CIFAR-10 Batch 1:  loss is:  1.56727 valid accuracy is:  0.4364\n",
      "Epoch  4, CIFAR-10 Batch 1:  loss is:  1.49758 valid accuracy is:  0.4582\n",
      "Epoch  5, CIFAR-10 Batch 1:  loss is:  1.46785 valid accuracy is:  0.469\n",
      "Epoch  6, CIFAR-10 Batch 1:  loss is:  1.41638 valid accuracy is:  0.4828\n",
      "Epoch  7, CIFAR-10 Batch 1:  loss is:  1.38578 valid accuracy is:  0.4918\n",
      "Epoch  8, CIFAR-10 Batch 1:  loss is:  1.3443 valid accuracy is:  0.5138\n",
      "Epoch  9, CIFAR-10 Batch 1:  loss is:  1.34626 valid accuracy is:  0.5164\n",
      "Epoch 10, CIFAR-10 Batch 1:  loss is:  1.31369 valid accuracy is:  0.5258\n"
     ]
    }
   ],
   "source": [
    "\"\"\"\n",
    "DON'T MODIFY ANYTHING IN THIS CELL\n",
    "\"\"\"\n",
    "print('Checking the Training on a Single Batch...')\n",
    "with tf.Session() as sess:\n",
    "    # Initializing the variables\n",
    "    sess.run(tf.global_variables_initializer())\n",
    "    \n",
    "    # Training cycle\n",
    "    for epoch in range(epochs):\n",
    "        batch_i = 1\n",
    "        for batch_features, batch_labels in helper.load_preprocess_training_batch(batch_i, batch_size):\n",
    "            train_neural_network(sess, optimizer, keep_probability, batch_features, batch_labels)\n",
    "        print('Epoch {:>2}, CIFAR-10 Batch {}:  '.format(epoch + 1, batch_i), end='')\n",
    "        print_stats(sess, valid_features, valid_labels, cost, accuracy)"
   ]
  },
  {
   "cell_type": "markdown",
   "metadata": {
    "deletable": true,
    "editable": true
   },
   "source": [
    "### Fully Train the Model\n",
    "Now that you got a good accuracy with a single CIFAR-10 batch, try it with all five batches."
   ]
  },
  {
   "cell_type": "code",
   "execution_count": null,
   "metadata": {
    "collapsed": false,
    "deletable": true,
    "editable": true
   },
   "outputs": [
    {
     "name": "stdout",
     "output_type": "stream",
     "text": [
      "Training...\n",
      "Epoch  1, CIFAR-10 Batch 1:  loss is:  2.11753 valid accuracy is:  0.3544\n",
      "Epoch  1, CIFAR-10 Batch 2:  loss is:  1.7216 valid accuracy is:  0.4204\n",
      "Epoch  1, CIFAR-10 Batch 3:  loss is:  1.39984 valid accuracy is:  0.4408\n",
      "Epoch  1, CIFAR-10 Batch 4:  loss is:  1.4575 valid accuracy is:  0.4604\n",
      "Epoch  1, CIFAR-10 Batch 5:  loss is:  1.53818 valid accuracy is:  0.4876\n",
      "Epoch  2, CIFAR-10 Batch 1:  loss is:  1.6771 valid accuracy is:  0.4982\n",
      "Epoch  2, CIFAR-10 Batch 2:  loss is:  1.39726 valid accuracy is:  0.505\n",
      "Epoch  2, CIFAR-10 Batch 3:  loss is:  1.19162 valid accuracy is:  0.5064\n",
      "Epoch  2, CIFAR-10 Batch 4:  loss is:  1.22554 valid accuracy is:  0.514\n",
      "Epoch  2, CIFAR-10 Batch 5:  loss is:  1.31128 valid accuracy is:  0.5246\n",
      "Epoch  3, CIFAR-10 Batch 1:  loss is:  1.4326 valid accuracy is:  0.5384\n",
      "Epoch  3, CIFAR-10 Batch 2:  loss is:  1.21165 valid accuracy is:  0.5408\n",
      "Epoch  3, CIFAR-10 Batch 3:  loss is:  1.02696 valid accuracy is:  0.5472\n",
      "Epoch  3, CIFAR-10 Batch 4:  loss is:  1.05738 valid accuracy is:  0.557\n",
      "Epoch  3, CIFAR-10 Batch 5:  loss is:  1.18753 valid accuracy is:  0.5648\n",
      "Epoch  4, CIFAR-10 Batch 1:  loss is:  1.37353 valid accuracy is:  0.5576\n",
      "Epoch  4, CIFAR-10 Batch 2:  loss is:  1.035 valid accuracy is:  0.5694\n",
      "Epoch  4, CIFAR-10 Batch 3:  loss is:  0.907339 valid accuracy is:  0.5664\n",
      "Epoch  4, CIFAR-10 Batch 4:  loss is:  0.956954 valid accuracy is:  0.5776\n",
      "Epoch  4, CIFAR-10 Batch 5:  loss is:  1.07104 valid accuracy is:  0.5848\n",
      "Epoch  5, CIFAR-10 Batch 1:  loss is:  1.23315 valid accuracy is:  0.5828\n",
      "Epoch  5, CIFAR-10 Batch 2:  loss is:  0.959858 valid accuracy is:  0.5926\n",
      "Epoch  5, CIFAR-10 Batch 3:  loss is:  0.788598 valid accuracy is:  0.5866\n",
      "Epoch  5, CIFAR-10 Batch 4:  loss is:  0.893066 valid accuracy is:  0.581\n",
      "Epoch  5, CIFAR-10 Batch 5:  loss is:  0.925937 valid accuracy is:  0.5982\n",
      "Epoch  6, CIFAR-10 Batch 1:  loss is:  1.10958 valid accuracy is:  0.6078\n",
      "Epoch  6, CIFAR-10 Batch 2:  loss is:  0.846258 valid accuracy is:  0.6004\n",
      "Epoch  6, CIFAR-10 Batch 3:  loss is:  0.730771 valid accuracy is:  0.5894\n",
      "Epoch  6, CIFAR-10 Batch 4:  loss is:  0.821678 valid accuracy is:  0.606\n",
      "Epoch  6, CIFAR-10 Batch 5:  loss is:  0.829486 valid accuracy is:  0.6038\n",
      "Epoch  7, CIFAR-10 Batch 1:  loss is:  1.03095 valid accuracy is:  0.607\n",
      "Epoch  7, CIFAR-10 Batch 2:  loss is:  0.791072 valid accuracy is:  0.6104\n",
      "Epoch  7, CIFAR-10 Batch 3:  loss is:  0.687205 valid accuracy is:  0.5954\n",
      "Epoch  7, CIFAR-10 Batch 4:  loss is:  0.746621 valid accuracy is:  0.617\n",
      "Epoch  7, CIFAR-10 Batch 5:  loss is:  0.76333 valid accuracy is:  0.6124\n",
      "Epoch  8, CIFAR-10 Batch 1:  loss is:  0.923694 valid accuracy is:  0.6232\n",
      "Epoch  8, CIFAR-10 Batch 2:  loss is:  0.711064 valid accuracy is:  0.622\n",
      "Epoch  8, CIFAR-10 Batch 3:  loss is:  0.634884 valid accuracy is:  0.6068\n",
      "Epoch  8, CIFAR-10 Batch 4:  loss is:  0.644962 valid accuracy is:  0.6294\n",
      "Epoch  8, CIFAR-10 Batch 5:  loss is:  0.680454 valid accuracy is:  0.612\n",
      "Epoch  9, CIFAR-10 Batch 1:  loss is:  0.849757 valid accuracy is:  0.6404\n",
      "Epoch  9, CIFAR-10 Batch 2:  loss is:  0.717425 valid accuracy is:  0.6324\n",
      "Epoch  9, CIFAR-10 Batch 3:  loss is:  0.546491 valid accuracy is:  0.613\n",
      "Epoch  9, CIFAR-10 Batch 4:  loss is:  0.612161 valid accuracy is:  0.641\n",
      "Epoch  9, CIFAR-10 Batch 5:  loss is:  0.648155 valid accuracy is:  0.6224\n",
      "Epoch 10, CIFAR-10 Batch 1:  loss is:  0.75623 valid accuracy is:  0.6476\n",
      "Epoch 10, CIFAR-10 Batch 2:  loss is:  0.693922 valid accuracy is:  0.6346\n",
      "Epoch 10, CIFAR-10 Batch 3:  loss is:  0.526931 valid accuracy is:  0.6228\n",
      "Epoch 10, CIFAR-10 Batch 4:  loss is:  0.572496 valid accuracy is:  0.6414\n",
      "Epoch 10, CIFAR-10 Batch 5:  loss is:  0.559803 valid accuracy is:  0.6364\n",
      "Epoch 11, CIFAR-10 Batch 1:  loss is:  0.694428 valid accuracy is:  0.651\n",
      "Epoch 11, CIFAR-10 Batch 2:  loss is:  0.637423 valid accuracy is:  0.64\n",
      "Epoch 11, CIFAR-10 Batch 3:  loss is:  0.476543 valid accuracy is:  0.6368\n",
      "Epoch 11, CIFAR-10 Batch 4:  loss is:  0.559364 valid accuracy is:  0.6494\n",
      "Epoch 11, CIFAR-10 Batch 5:  loss is:  0.501168 valid accuracy is:  0.641\n",
      "Epoch 12, CIFAR-10 Batch 1:  loss is:  0.621781 valid accuracy is:  0.6526\n",
      "Epoch 12, CIFAR-10 Batch 2:  loss is:  0.626032 valid accuracy is:  0.6446\n",
      "Epoch 12, CIFAR-10 Batch 3:  loss is:  0.419355 valid accuracy is:  0.6466\n",
      "Epoch 12, CIFAR-10 Batch 4:  loss is:  0.520524 valid accuracy is:  0.6512\n",
      "Epoch 12, CIFAR-10 Batch 5:  loss is:  0.490939 valid accuracy is:  0.6394\n",
      "Epoch 13, CIFAR-10 Batch 1:  loss is:  0.588407 valid accuracy is:  0.66\n",
      "Epoch 13, CIFAR-10 Batch 2:  loss is:  0.564384 valid accuracy is:  0.6476\n",
      "Epoch 13, CIFAR-10 Batch 3:  loss is:  0.385895 valid accuracy is:  0.6472\n",
      "Epoch 13, CIFAR-10 Batch 4:  loss is:  0.470893 valid accuracy is:  0.6634\n",
      "Epoch 13, CIFAR-10 Batch 5:  loss is:  0.421955 valid accuracy is:  0.651\n",
      "Epoch 14, CIFAR-10 Batch 1:  loss is:  0.53316 valid accuracy is:  0.6668\n",
      "Epoch 14, CIFAR-10 Batch 2:  loss is:  0.542495 valid accuracy is:  0.662\n",
      "Epoch 14, CIFAR-10 Batch 3:  loss is:  0.373037 valid accuracy is:  0.6472\n",
      "Epoch 14, CIFAR-10 Batch 4:  loss is:  0.453549 valid accuracy is:  0.6722\n",
      "Epoch 14, CIFAR-10 Batch 5:  loss is:  0.381959 valid accuracy is:  0.653\n",
      "Epoch 15, CIFAR-10 Batch 1:  loss is:  0.487148 valid accuracy is:  0.6734\n",
      "Epoch 15, CIFAR-10 Batch 2:  loss is:  0.475961 valid accuracy is:  0.6594\n",
      "Epoch 15, CIFAR-10 Batch 3:  loss is:  0.351026 valid accuracy is:  0.6596\n",
      "Epoch 15, CIFAR-10 Batch 4:  loss is:  0.446462 valid accuracy is:  0.668\n",
      "Epoch 15, CIFAR-10 Batch 5:  loss is:  0.368679 valid accuracy is:  0.653\n",
      "Epoch 16, CIFAR-10 Batch 1:  loss is:  0.481564 valid accuracy is:  0.6742\n",
      "Epoch 16, CIFAR-10 Batch 2:  loss is:  0.441766 valid accuracy is:  0.667\n",
      "Epoch 16, CIFAR-10 Batch 3:  loss is:  0.360745 valid accuracy is:  0.6574\n",
      "Epoch 16, CIFAR-10 Batch 4:  loss is:  0.406234 valid accuracy is:  0.6754\n",
      "Epoch 16, CIFAR-10 Batch 5:  loss is:  0.346295 valid accuracy is:  0.6672\n",
      "Epoch 17, CIFAR-10 Batch 1:  loss is:  0.411556 valid accuracy is:  0.6782\n",
      "Epoch 17, CIFAR-10 Batch 2:  loss is:  0.411325 valid accuracy is:  0.6652\n",
      "Epoch 17, CIFAR-10 Batch 3:  loss is:  0.320352 valid accuracy is:  0.6612\n",
      "Epoch 17, CIFAR-10 Batch 4:  loss is:  0.405003 valid accuracy is:  0.6798\n",
      "Epoch 17, CIFAR-10 Batch 5:  loss is:  0.283174 valid accuracy is:  0.666\n",
      "Epoch 18, CIFAR-10 Batch 1:  loss is:  0.440703 valid accuracy is:  0.6748\n",
      "Epoch 18, CIFAR-10 Batch 2:  loss is:  0.396282 valid accuracy is:  0.6674\n",
      "Epoch 18, CIFAR-10 Batch 3:  loss is:  0.282574 valid accuracy is:  0.6638\n",
      "Epoch 18, CIFAR-10 Batch 4:  loss is:  0.35462 valid accuracy is:  0.6844\n",
      "Epoch 18, CIFAR-10 Batch 5:  loss is:  0.292133 valid accuracy is:  0.6678\n",
      "Epoch 19, CIFAR-10 Batch 1:  loss is:  0.390231 valid accuracy is:  0.6814\n",
      "Epoch 19, CIFAR-10 Batch 2:  loss is:  0.382683 valid accuracy is:  0.6778\n",
      "Epoch 19, CIFAR-10 Batch 3:  loss is:  0.280142 valid accuracy is:  0.6686\n",
      "Epoch 19, CIFAR-10 Batch 4:  loss is:  0.332469 valid accuracy is:  0.6858\n",
      "Epoch 19, CIFAR-10 Batch 5:  loss is:  0.24882 valid accuracy is:  0.6694\n",
      "Epoch 20, CIFAR-10 Batch 1:  loss is:  0.346697 valid accuracy is:  0.6788\n",
      "Epoch 20, CIFAR-10 Batch 2:  loss is:  0.339482 valid accuracy is:  0.6742\n",
      "Epoch 20, CIFAR-10 Batch 3:  loss is:  0.267903 valid accuracy is:  0.6664\n",
      "Epoch 20, CIFAR-10 Batch 4:  loss is:  0.381228 valid accuracy is:  0.677\n",
      "Epoch 20, CIFAR-10 Batch 5:  loss is:  0.235509 valid accuracy is:  0.6748\n",
      "Epoch 21, CIFAR-10 Batch 1:  loss is:  0.328976 valid accuracy is:  0.6798\n",
      "Epoch 21, CIFAR-10 Batch 2:  loss is:  0.319971 valid accuracy is:  0.6756\n",
      "Epoch 21, CIFAR-10 Batch 3:  loss is:  0.238839 valid accuracy is:  0.676\n",
      "Epoch 21, CIFAR-10 Batch 4:  loss is:  0.319814 valid accuracy is:  0.6768\n",
      "Epoch 21, CIFAR-10 Batch 5:  loss is:  0.229928 valid accuracy is:  0.6732\n",
      "Epoch 22, CIFAR-10 Batch 1:  loss is:  0.362784 valid accuracy is:  0.6688\n",
      "Epoch 22, CIFAR-10 Batch 2:  loss is:  0.308848 valid accuracy is:  0.6686\n",
      "Epoch 22, CIFAR-10 Batch 3:  loss is:  0.215108 valid accuracy is:  0.675\n",
      "Epoch 22, CIFAR-10 Batch 4:  loss is:  0.332324 valid accuracy is:  0.671\n",
      "Epoch 22, CIFAR-10 Batch 5:  loss is:  0.212001 valid accuracy is:  0.6722\n",
      "Epoch 23, CIFAR-10 Batch 1:  loss is:  0.282955 valid accuracy is:  0.6798\n",
      "Epoch 23, CIFAR-10 Batch 2:  loss is:  0.271602 valid accuracy is:  0.681\n",
      "Epoch 23, CIFAR-10 Batch 3:  loss is:  0.213474 valid accuracy is:  0.6822\n",
      "Epoch 23, CIFAR-10 Batch 4:  loss is:  0.327516 valid accuracy is:  0.6678\n",
      "Epoch 23, CIFAR-10 Batch 5:  loss is:  0.193467 valid accuracy is:  0.6782\n",
      "Epoch 24, CIFAR-10 Batch 1:  loss is:  0.273699 valid accuracy is:  0.6774\n",
      "Epoch 24, CIFAR-10 Batch 2:  loss is:  0.26781 valid accuracy is:  0.6758\n",
      "Epoch 24, CIFAR-10 Batch 3:  loss is:  0.220115 valid accuracy is:  0.6868\n",
      "Epoch 24, CIFAR-10 Batch 4:  loss is:  0.32122 valid accuracy is:  0.6748\n",
      "Epoch 24, CIFAR-10 Batch 5:  loss is:  0.199737 valid accuracy is:  0.6752\n",
      "Epoch 25, CIFAR-10 Batch 1:  loss is:  0.240878 valid accuracy is:  0.6844\n",
      "Epoch 25, CIFAR-10 Batch 2:  loss is:  0.234468 valid accuracy is:  0.6818\n",
      "Epoch 25, CIFAR-10 Batch 3:  loss is:  0.208585 valid accuracy is:  0.6818\n",
      "Epoch 25, CIFAR-10 Batch 4:  loss is:  0.284966 valid accuracy is:  0.6784\n",
      "Epoch 25, CIFAR-10 Batch 5:  loss is:  0.181217 valid accuracy is:  0.6792\n",
      "Epoch 26, CIFAR-10 Batch 1:  loss is:  0.222598 valid accuracy is:  0.6804\n",
      "Epoch 26, CIFAR-10 Batch 2:  loss is:  0.276586 valid accuracy is:  0.6822\n",
      "Epoch 26, CIFAR-10 Batch 3:  loss is:  0.191023 valid accuracy is:  0.6864\n",
      "Epoch 26, CIFAR-10 Batch 4:  loss is:  0.272385 valid accuracy is:  0.6792\n",
      "Epoch 26, CIFAR-10 Batch 5:  loss is:  0.19539 valid accuracy is:  0.6722\n",
      "Epoch 27, CIFAR-10 Batch 1:  loss is:  0.206732 valid accuracy is:  0.6854\n",
      "Epoch 27, CIFAR-10 Batch 2:  loss is:  0.227823 valid accuracy is:  0.6868\n",
      "Epoch 27, CIFAR-10 Batch 3:  loss is:  0.167368 valid accuracy is:  0.689\n",
      "Epoch 27, CIFAR-10 Batch 4:  loss is:  0.214725 valid accuracy is:  0.6752\n",
      "Epoch 27, CIFAR-10 Batch 5:  loss is:  0.16882 valid accuracy is:  0.6674\n",
      "Epoch 28, CIFAR-10 Batch 1:  loss is:  0.199205 valid accuracy is:  0.6842\n",
      "Epoch 28, CIFAR-10 Batch 2:  loss is:  0.21875 valid accuracy is:  0.682\n",
      "Epoch 28, CIFAR-10 Batch 3:  loss is:  0.167312 valid accuracy is:  0.6864\n",
      "Epoch 28, CIFAR-10 Batch 4:  loss is:  0.266872 valid accuracy is:  0.67\n",
      "Epoch 28, CIFAR-10 Batch 5:  loss is:  0.160989 valid accuracy is:  0.677\n",
      "Epoch 29, CIFAR-10 Batch 1:  loss is:  0.196461 valid accuracy is:  0.6812\n",
      "Epoch 29, CIFAR-10 Batch 2:  loss is:  0.218387 valid accuracy is:  0.6856\n",
      "Epoch 29, CIFAR-10 Batch 3:  loss is:  0.173265 valid accuracy is:  0.678\n",
      "Epoch 29, CIFAR-10 Batch 4:  loss is:  0.233607 valid accuracy is:  0.6822\n",
      "Epoch 29, CIFAR-10 Batch 5:  loss is:  0.125901 valid accuracy is:  0.6812\n",
      "Epoch 30, CIFAR-10 Batch 1:  loss is:  0.198114 valid accuracy is:  0.6892\n",
      "Epoch 30, CIFAR-10 Batch 2:  loss is:  0.220159 valid accuracy is:  0.6764\n",
      "Epoch 30, CIFAR-10 Batch 3:  loss is:  0.154278 valid accuracy is:  0.681\n",
      "Epoch 30, CIFAR-10 Batch 4:  loss is:  0.217674 valid accuracy is:  0.68\n",
      "Epoch 30, CIFAR-10 Batch 5:  loss is:  0.135071 valid accuracy is:  0.6752\n",
      "Epoch 31, CIFAR-10 Batch 1:  loss is:  0.179215 valid accuracy is:  0.6912\n",
      "Epoch 31, CIFAR-10 Batch 2:  loss is:  0.189956 valid accuracy is:  0.6762\n",
      "Epoch 31, CIFAR-10 Batch 3:  loss is:  0.138333 valid accuracy is:  0.6738\n",
      "Epoch 31, CIFAR-10 Batch 4:  loss is:  0.20079 valid accuracy is:  0.6794\n",
      "Epoch 31, CIFAR-10 Batch 5:  loss is:  0.13383 valid accuracy is:  0.6818\n",
      "Epoch 32, CIFAR-10 Batch 1:  loss is:  0.157728 valid accuracy is:  0.6904\n",
      "Epoch 32, CIFAR-10 Batch 2:  loss is:  0.170355 valid accuracy is:  0.684\n",
      "Epoch 32, CIFAR-10 Batch 3:  loss is:  0.171396 valid accuracy is:  0.6668\n",
      "Epoch 32, CIFAR-10 Batch 4:  loss is:  0.203648 valid accuracy is:  0.6916\n",
      "Epoch 32, CIFAR-10 Batch 5:  loss is:  0.104962 valid accuracy is:  0.6726\n",
      "Epoch 33, CIFAR-10 Batch 1:  loss is:  0.190738 valid accuracy is:  0.6842\n",
      "Epoch 33, CIFAR-10 Batch 2:  loss is:  0.168155 valid accuracy is:  0.6824\n",
      "Epoch 33, CIFAR-10 Batch 3:  loss is:  0.173563 valid accuracy is:  0.666\n",
      "Epoch 33, CIFAR-10 Batch 4:  loss is:  0.213516 valid accuracy is:  0.6834\n",
      "Epoch 33, CIFAR-10 Batch 5:  loss is:  0.12373 valid accuracy is:  0.681\n",
      "Epoch 34, CIFAR-10 Batch 1:  loss is:  0.154561 valid accuracy is:  0.6902\n",
      "Epoch 34, CIFAR-10 Batch 2:  loss is:  0.169863 valid accuracy is:  0.6778\n",
      "Epoch 34, CIFAR-10 Batch 3:  loss is:  0.171936 valid accuracy is:  0.6668\n",
      "Epoch 34, CIFAR-10 Batch 4:  loss is:  0.176784 valid accuracy is:  0.6824\n",
      "Epoch 34, CIFAR-10 Batch 5:  loss is:  0.106311 valid accuracy is:  0.686\n",
      "Epoch 35, CIFAR-10 Batch 1:  loss is:  0.137378 valid accuracy is:  0.6802\n",
      "Epoch 35, CIFAR-10 Batch 2:  loss is:  0.166129 valid accuracy is:  0.6826\n",
      "Epoch 35, CIFAR-10 Batch 3:  loss is:  0.148424 valid accuracy is:  0.6704\n",
      "Epoch 35, CIFAR-10 Batch 4:  loss is:  0.165133 valid accuracy is:  0.6862\n",
      "Epoch 35, CIFAR-10 Batch 5:  loss is:  0.112727 valid accuracy is:  0.6744\n",
      "Epoch 36, CIFAR-10 Batch 1:  loss is:  0.152882 valid accuracy is:  0.6832\n",
      "Epoch 36, CIFAR-10 Batch 2:  loss is:  0.151953 valid accuracy is:  0.6822\n",
      "Epoch 36, CIFAR-10 Batch 3:  loss is:  0.159493 valid accuracy is:  0.6576\n",
      "Epoch 36, CIFAR-10 Batch 4:  loss is:  0.181781 valid accuracy is:  0.6832\n",
      "Epoch 36, CIFAR-10 Batch 5:  loss is:  0.0932604 valid accuracy is:  0.6828\n",
      "Epoch 37, CIFAR-10 Batch 1:  loss is:  0.155001 valid accuracy is:  0.6854\n",
      "Epoch 37, CIFAR-10 Batch 2:  loss is:  0.132933 valid accuracy is:  0.6844\n",
      "Epoch 37, CIFAR-10 Batch 3:  loss is:  0.160359 valid accuracy is:  0.6538\n",
      "Epoch 37, CIFAR-10 Batch 4:  loss is:  0.156838 valid accuracy is:  0.6816\n",
      "Epoch 37, CIFAR-10 Batch 5:  loss is:  0.113413 valid accuracy is:  0.6854\n",
      "Epoch 38, CIFAR-10 Batch 1:  loss is:  0.131964 valid accuracy is:  0.6882\n",
      "Epoch 38, CIFAR-10 Batch 2:  loss is:  0.12948 valid accuracy is:  0.679\n",
      "Epoch 38, CIFAR-10 Batch 3:  loss is:  0.128487 valid accuracy is:  0.6798\n",
      "Epoch 38, CIFAR-10 Batch 4:  loss is:  0.132251 valid accuracy is:  0.6876\n",
      "Epoch 38, CIFAR-10 Batch 5:  loss is:  0.0932532 valid accuracy is:  0.6808\n",
      "Epoch 39, CIFAR-10 Batch 1:  loss is:  0.1266 valid accuracy is:  0.6876\n",
      "Epoch 39, CIFAR-10 Batch 2:  loss is:  0.108745 valid accuracy is:  0.6674\n",
      "Epoch 39, CIFAR-10 Batch 3:  loss is:  0.132419 valid accuracy is:  0.6606\n",
      "Epoch 39, CIFAR-10 Batch 4:  loss is:  0.15311 valid accuracy is:  0.685\n",
      "Epoch 39, CIFAR-10 Batch 5:  loss is:  0.100823 valid accuracy is:  0.6736\n",
      "Epoch 40, CIFAR-10 Batch 1:  loss is:  0.146278 valid accuracy is:  0.6764\n"
     ]
    }
   ],
   "source": [
    "epochs = 40\n",
    "\"\"\"\n",
    "DON'T MODIFY ANYTHING IN THIS CELL\n",
    "\"\"\"\n",
    "save_model_path = './image_classification'\n",
    "\n",
    "print('Training...')\n",
    "with tf.Session() as sess:\n",
    "    # Initializing the variables\n",
    "    sess.run(tf.global_variables_initializer())\n",
    "    \n",
    "    # Training cycle\n",
    "    for epoch in range(epochs):\n",
    "        # Loop over all batches\n",
    "        n_batches = 5\n",
    "        for batch_i in range(1, n_batches + 1):\n",
    "            for batch_features, batch_labels in helper.load_preprocess_training_batch(batch_i, batch_size):\n",
    "                train_neural_network(sess, optimizer, keep_probability, batch_features, batch_labels)\n",
    "            print('Epoch {:>2}, CIFAR-10 Batch {}:  '.format(epoch + 1, batch_i), end='')\n",
    "            print_stats(sess, batch_features, batch_labels, cost, accuracy)\n",
    "            \n",
    "    # Save Model\n",
    "    saver = tf.train.Saver()\n",
    "    save_path = saver.save(sess, save_model_path)"
   ]
  },
  {
   "cell_type": "markdown",
   "metadata": {
    "deletable": true,
    "editable": true
   },
   "source": [
    "# Checkpoint\n",
    "The model has been saved to disk.\n",
    "## Test Model\n",
    "Test your model against the test dataset.  This will be your final accuracy. You should have an accuracy greater than 50%. If you don't, keep tweaking the model architecture and parameters."
   ]
  },
  {
   "cell_type": "code",
   "execution_count": null,
   "metadata": {
    "collapsed": false,
    "deletable": true,
    "editable": true
   },
   "outputs": [],
   "source": [
    "\"\"\"\n",
    "DON'T MODIFY ANYTHING IN THIS CELL\n",
    "\"\"\"\n",
    "%matplotlib inline\n",
    "%config InlineBackend.figure_format = 'retina'\n",
    "\n",
    "import tensorflow as tf\n",
    "import pickle\n",
    "import helper\n",
    "import random\n",
    "\n",
    "# Set batch size if not already set\n",
    "try:\n",
    "    if batch_size:\n",
    "        pass\n",
    "except NameError:\n",
    "    batch_size = 64\n",
    "\n",
    "save_model_path = './image_classification'\n",
    "n_samples = 4\n",
    "top_n_predictions = 3\n",
    "\n",
    "def test_model():\n",
    "    \"\"\"\n",
    "    Test the saved model against the test dataset\n",
    "    \"\"\"\n",
    "\n",
    "    test_features, test_labels = pickle.load(open('preprocess_test.p', mode='rb'))\n",
    "    loaded_graph = tf.Graph()\n",
    "\n",
    "    with tf.Session(graph=loaded_graph) as sess:\n",
    "        # Load model\n",
    "        loader = tf.train.import_meta_graph(save_model_path + '.meta')\n",
    "        loader.restore(sess, save_model_path)\n",
    "\n",
    "        # Get Tensors from loaded model\n",
    "        loaded_x = loaded_graph.get_tensor_by_name('x:0')\n",
    "        loaded_y = loaded_graph.get_tensor_by_name('y:0')\n",
    "        loaded_keep_prob = loaded_graph.get_tensor_by_name('keep_prob:0')\n",
    "        loaded_logits = loaded_graph.get_tensor_by_name('logits:0')\n",
    "        loaded_acc = loaded_graph.get_tensor_by_name('accuracy:0')\n",
    "        \n",
    "        # Get accuracy in batches for memory limitations\n",
    "        test_batch_acc_total = 0\n",
    "        test_batch_count = 0\n",
    "        \n",
    "        for test_feature_batch, test_label_batch in helper.batch_features_labels(test_features, test_labels, batch_size):\n",
    "            test_batch_acc_total += sess.run(\n",
    "                loaded_acc,\n",
    "                feed_dict={loaded_x: test_feature_batch, loaded_y: test_label_batch, loaded_keep_prob: 1.0})\n",
    "            test_batch_count += 1\n",
    "\n",
    "        print('Testing Accuracy: {}\\n'.format(test_batch_acc_total/test_batch_count))\n",
    "\n",
    "        # Print Random Samples\n",
    "        random_test_features, random_test_labels = tuple(zip(*random.sample(list(zip(test_features, test_labels)), n_samples)))\n",
    "        random_test_predictions = sess.run(\n",
    "            tf.nn.top_k(tf.nn.softmax(loaded_logits), top_n_predictions),\n",
    "            feed_dict={loaded_x: random_test_features, loaded_y: random_test_labels, loaded_keep_prob: 1.0})\n",
    "        helper.display_image_predictions(random_test_features, random_test_labels, random_test_predictions)\n",
    "\n",
    "\n",
    "test_model()"
   ]
  },
  {
   "cell_type": "markdown",
   "metadata": {
    "deletable": true,
    "editable": true
   },
   "source": [
    "## Why 50-80% Accuracy?\n",
    "You might be wondering why you can't get an accuracy any higher. First things first, 50% isn't bad for a simple CNN.  Pure guessing would get you 10% accuracy. However, you might notice people are getting scores [well above 80%](http://rodrigob.github.io/are_we_there_yet/build/classification_datasets_results.html#43494641522d3130).  That's because we haven't taught you all there is to know about neural networks. We still need to cover a few more techniques.\n",
    "## Submitting This Project\n",
    "When submitting this project, make sure to run all the cells before saving the notebook.  Save the notebook file as \"dlnd_image_classification.ipynb\" and save it as a HTML file under \"File\" -> \"Download as\".  Include the \"helper.py\" and \"problem_unittests.py\" files in your submission."
   ]
  }
 ],
 "metadata": {
  "kernelspec": {
   "display_name": "Python 3",
   "language": "python",
   "name": "python3"
  },
  "language_info": {
   "codemirror_mode": {
    "name": "ipython",
    "version": 3
   },
   "file_extension": ".py",
   "mimetype": "text/x-python",
   "name": "python",
   "nbconvert_exporter": "python",
   "pygments_lexer": "ipython3",
   "version": "3.6.0"
  }
 },
 "nbformat": 4,
 "nbformat_minor": 0
}
