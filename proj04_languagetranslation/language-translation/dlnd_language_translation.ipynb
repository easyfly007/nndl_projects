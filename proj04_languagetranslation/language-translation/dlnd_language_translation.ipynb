{
 "cells": [
  {
   "cell_type": "markdown",
   "metadata": {
    "collapsed": true
   },
   "source": [
    "# 语言翻译\n",
    "\n",
    "在此项目中，你将了解神经网络机器翻译这一领域。你将用由英语和法语语句组成的数据集，训练一个序列到序列模型（sequence to sequence model），该模型能够将新的英语句子翻译成法语。\n",
    "\n",
    "## 获取数据\n",
    "\n",
    "因为将整个英语语言内容翻译成法语需要大量训练时间，所以我们提供了一小部分的英语语料库。\n"
   ]
  },
  {
   "cell_type": "code",
   "execution_count": 24,
   "metadata": {
    "collapsed": true
   },
   "outputs": [],
   "source": [
    "\"\"\"\n",
    "DON'T MODIFY ANYTHING IN THIS CELL\n",
    "\"\"\"\n",
    "import helper\n",
    "import problem_unittests as tests\n",
    "\n",
    "source_path = 'data/small_vocab_en'\n",
    "target_path = 'data/small_vocab_fr'\n",
    "source_text = helper.load_data(source_path)\n",
    "target_text = helper.load_data(target_path)"
   ]
  },
  {
   "cell_type": "markdown",
   "metadata": {},
   "source": [
    "## 探索数据\n",
    "\n",
    "研究 view_sentence_range，查看并熟悉该数据的不同部分。\n"
   ]
  },
  {
   "cell_type": "code",
   "execution_count": 25,
   "metadata": {},
   "outputs": [
    {
     "name": "stdout",
     "output_type": "stream",
     "text": [
      "Dataset Stats\n",
      "Roughly the number of unique words: 227\n",
      "Number of sentences: 137861\n",
      "Average number of words in a sentence: 13.225277634719028\n",
      "\n",
      "English sentences 0 to 10:\n",
      "new jersey is sometimes quiet during autumn , and it is snowy in april .\n",
      "the united states is usually chilly during july , and it is usually freezing in november .\n",
      "california is usually quiet during march , and it is usually hot in june .\n",
      "the united states is sometimes mild during june , and it is cold in september .\n",
      "your least liked fruit is the grape , but my least liked is the apple .\n",
      "his favorite fruit is the orange , but my favorite is the grape .\n",
      "paris is relaxing during december , but it is usually chilly in july .\n",
      "new jersey is busy during spring , and it is never hot in march .\n",
      "our least liked fruit is the lemon , but my least liked is the grape .\n",
      "the united states is sometimes busy during january , and it is sometimes warm in november .\n",
      "\n",
      "French sentences 0 to 10:\n",
      "new jersey est parfois calme pendant l' automne , et il est neigeux en avril .\n",
      "les états-unis est généralement froid en juillet , et il gèle habituellement en novembre .\n",
      "california est généralement calme en mars , et il est généralement chaud en juin .\n",
      "les états-unis est parfois légère en juin , et il fait froid en septembre .\n",
      "votre moins aimé fruit est le raisin , mais mon moins aimé est la pomme .\n",
      "son fruit préféré est l'orange , mais mon préféré est le raisin .\n",
      "paris est relaxant en décembre , mais il est généralement froid en juillet .\n",
      "new jersey est occupé au printemps , et il est jamais chaude en mars .\n",
      "notre fruit est moins aimé le citron , mais mon moins aimé est le raisin .\n",
      "les états-unis est parfois occupé en janvier , et il est parfois chaud en novembre .\n"
     ]
    }
   ],
   "source": [
    "view_sentence_range = (0, 10)\n",
    "\n",
    "\"\"\"\n",
    "DON'T MODIFY ANYTHING IN THIS CELL\n",
    "\"\"\"\n",
    "import numpy as np\n",
    "\n",
    "print('Dataset Stats')\n",
    "print('Roughly the number of unique words: {}'.format(len({word: None for word in source_text.split()})))\n",
    "\n",
    "sentences = source_text.split('\\n')\n",
    "word_counts = [len(sentence.split()) for sentence in sentences]\n",
    "print('Number of sentences: {}'.format(len(sentences)))\n",
    "print('Average number of words in a sentence: {}'.format(np.average(word_counts)))\n",
    "\n",
    "print()\n",
    "print('English sentences {} to {}:'.format(*view_sentence_range))\n",
    "print('\\n'.join(source_text.split('\\n')[view_sentence_range[0]:view_sentence_range[1]]))\n",
    "print()\n",
    "print('French sentences {} to {}:'.format(*view_sentence_range))\n",
    "print('\\n'.join(target_text.split('\\n')[view_sentence_range[0]:view_sentence_range[1]]))"
   ]
  },
  {
   "cell_type": "code",
   "execution_count": null,
   "metadata": {
    "collapsed": true
   },
   "outputs": [],
   "source": []
  },
  {
   "cell_type": "markdown",
   "metadata": {},
   "source": [
    "## 实现预处理函数\n",
    "\n",
    "### 文本到单词 id\n",
    "\n",
    "和之前的 RNN 一样，你必须首先将文本转换为数字，这样计算机才能读懂。在函数 `text_to_ids()` 中，你需要将单词中的 `source_text` 和 `target_text` 转为 id。但是，你需要在 `target_text` 中每个句子的末尾，添加 `<EOS>` 单词 id。这样可以帮助神经网络预测句子应该在什么地方结束。\n",
    "\n",
    "\n",
    "你可以通过以下代码获取  `<EOS> ` 单词ID：\n",
    "\n",
    "```python\n",
    "target_vocab_to_int['<EOS>']\n",
    "```\n",
    "\n",
    "你可以使用 `source_vocab_to_int` 和 `target_vocab_to_int` 获得其他单词 id。\n"
   ]
  },
  {
   "cell_type": "code",
   "execution_count": 26,
   "metadata": {},
   "outputs": [
    {
     "name": "stdout",
     "output_type": "stream",
     "text": [
      "['new', 'jersey', 'is', 'sometimes', 'quiet', 'during', 'autumn', ',', 'and', 'it', 'is', 'snowy', 'in', 'april', '.']\n",
      "Tests Passed\n"
     ]
    }
   ],
   "source": [
    "def text_to_ids(source_text, target_text, source_vocab_to_int, target_vocab_to_int):\n",
    "    \"\"\"\n",
    "    Convert source and target text to proper word ids\n",
    "    :param source_text: String that contains all the source text.\n",
    "    :param target_text: String that contains all the target text.\n",
    "    :param source_vocab_to_int: Dictionary to go from the source words to an id\n",
    "    :param target_vocab_to_int: Dictionary to go from the target words to an id\n",
    "    :return: A tuple of lists (source_id_text, target_id_text)\n",
    "    \"\"\"\n",
    "    # TODO: Implement Function\n",
    "\n",
    "    def get_ids(text, vocab_to_int, addeos):\n",
    "        sentences = text.split('\\n')\n",
    "\n",
    "        sentences_id = []\n",
    "        for sentence in sentences:\n",
    "            sentence_id = []\n",
    "            for word in sentence.split():\n",
    "                sentence_id.append(vocab_to_int[word])\n",
    "            if addeos:\n",
    "                sentence_id.append(vocab_to_int['<EOS>'])\n",
    "            sentences_id.append(sentence_id)\n",
    "        return sentences_id\n",
    "    print(source_text.split('\\n')[0].split())\n",
    "    source_text_ids = get_ids(source_text, source_vocab_to_int, False)\n",
    "    target_text_ids = get_ids(target_text, target_vocab_to_int, True)\n",
    "    return source_text_ids, target_text_ids\n",
    "\n",
    "    source_text = source_text.split()\n",
    "    target_text = target_text.split()\n",
    "    source_ids, target_ids = [], []\n",
    "    for word in source_text:\n",
    "        source_ids.append(source_vocab_to_int[word])\n",
    "    for word in target_text:\n",
    "        target_ids.append(target_vocab_to_int[word])\n",
    "    return source_ids, target_ids\n",
    "\n",
    "\"\"\"\n",
    "DON'T MODIFY ANYTHING IN THIS CELL THAT IS BELOW THIS LINE\n",
    "\"\"\"\n",
    "tests.test_text_to_ids(text_to_ids)"
   ]
  },
  {
   "cell_type": "markdown",
   "metadata": {},
   "source": [
    "### 预处理所有数据并保存\n",
    "\n",
    "运行以下代码单元，预处理所有数据，并保存到文件中。\n"
   ]
  },
  {
   "cell_type": "code",
   "execution_count": 27,
   "metadata": {},
   "outputs": [
    {
     "name": "stdout",
     "output_type": "stream",
     "text": [
      "['new', 'jersey', 'is', 'sometimes', 'quiet', 'during', 'autumn', ',', 'and', 'it', 'is', 'snowy', 'in', 'april', '.']\n"
     ]
    }
   ],
   "source": [
    "\"\"\"\n",
    "DON'T MODIFY ANYTHING IN THIS CELL\n",
    "\"\"\"\n",
    "helper.preprocess_and_save_data(source_path, target_path, text_to_ids)"
   ]
  },
  {
   "cell_type": "markdown",
   "metadata": {},
   "source": [
    "# 检查点\n",
    "\n",
    "这是你的第一个检查点。如果你什么时候决定再回到该记事本，或需要重新启动该记事本，可以从这里继续。预处理的数据已保存到磁盘上。"
   ]
  },
  {
   "cell_type": "code",
   "execution_count": 28,
   "metadata": {
    "collapsed": true
   },
   "outputs": [],
   "source": [
    "\"\"\"\n",
    "DON'T MODIFY ANYTHING IN THIS CELL\n",
    "\"\"\"\n",
    "import numpy as np\n",
    "import helper\n",
    "\n",
    "(source_int_text, target_int_text), (source_vocab_to_int, target_vocab_to_int), _ = helper.load_preprocess()"
   ]
  },
  {
   "cell_type": "code",
   "execution_count": 29,
   "metadata": {},
   "outputs": [
    {
     "name": "stdout",
     "output_type": "stream",
     "text": [
      "137861\n"
     ]
    }
   ],
   "source": [
    "print(len(source_int_text))\n",
    "# print(source_int_text[:30])\n"
   ]
  },
  {
   "cell_type": "markdown",
   "metadata": {},
   "source": [
    "### 检查 TensorFlow 版本，确认可访问 GPU\n",
    "\n",
    "这一检查步骤，可以确保你使用的是正确版本的 TensorFlow，并且能够访问 GPU。\n"
   ]
  },
  {
   "cell_type": "code",
   "execution_count": 30,
   "metadata": {},
   "outputs": [
    {
     "name": "stdout",
     "output_type": "stream",
     "text": [
      "TensorFlow Version: 1.0.0\n"
     ]
    },
    {
     "name": "stderr",
     "output_type": "stream",
     "text": [
      "C:\\Users\\yfhuang\\AppData\\Local\\Continuum\\Miniconda3\\envs\\py3.5\\lib\\site-packages\\ipykernel_launcher.py:14: UserWarning: No GPU found. Please use a GPU to train your neural network.\n",
      "  \n"
     ]
    }
   ],
   "source": [
    "\"\"\"\n",
    "DON'T MODIFY ANYTHING IN THIS CELL\n",
    "\"\"\"\n",
    "from distutils.version import LooseVersion\n",
    "import warnings\n",
    "import tensorflow as tf\n",
    "\n",
    "# Check TensorFlow Version\n",
    "assert LooseVersion(tf.__version__) in [LooseVersion('1.0.0'), LooseVersion('1.0.1')], 'This project requires TensorFlow version 1.0  You are using {}'.format(tf.__version__)\n",
    "print('TensorFlow Version: {}'.format(tf.__version__))\n",
    "\n",
    "# Check for a GPU\n",
    "if not tf.test.gpu_device_name():\n",
    "    warnings.warn('No GPU found. Please use a GPU to train your neural network.')\n",
    "else:\n",
    "    print('Default GPU Device: {}'.format(tf.test.gpu_device_name()))"
   ]
  },
  {
   "cell_type": "markdown",
   "metadata": {},
   "source": [
    "## 构建神经网络\n",
    "\n",
    "你将通过实现以下函数，构建出要构建一个序列到序列模型所需的组件：\n",
    "\n",
    "- `model_inputs`\n",
    "- `process_decoding_input`\n",
    "- `encoding_layer`\n",
    "- `decoding_layer_train`\n",
    "- `decoding_layer_infer`\n",
    "- `decoding_layer`\n",
    "- `seq2seq_model`\n",
    "\n",
    "### 输入\n",
    "\n",
    "实现 `model_inputs()` 函数，为神经网络创建 TF 占位符。该函数应该创建以下占位符：\n",
    "\n",
    "- 名为 “input” 的输入文本占位符，并使用 TF Placeholder 名称参数（等级（Rank）为 2）。\n",
    "- 目标占位符（等级为 2）。\n",
    "- 学习速率占位符（等级为 0）。\n",
    "- 名为 “keep_prob” 的保留率占位符，并使用 TF Placeholder 名称参数（等级为 0）。\n",
    "\n",
    "在以下元祖（tuple）中返回占位符：（输入、目标、学习速率、保留率）\n"
   ]
  },
  {
   "cell_type": "code",
   "execution_count": 31,
   "metadata": {},
   "outputs": [
    {
     "name": "stdout",
     "output_type": "stream",
     "text": [
      "Tests Passed\n"
     ]
    }
   ],
   "source": [
    "def model_inputs():\n",
    "    \"\"\"\n",
    "    Create TF Placeholders for input, targets, and learning rate.\n",
    "    :return: Tuple (input, targets, learning rate, keep probability)\n",
    "    \"\"\"\n",
    "    # TODO: Implement Function\n",
    "    input_ = tf.placeholder(tf.int32, shape=[None, None], name='input')\n",
    "    targets = tf.placeholder(tf.int32, shape = [None, None], name = 'targets')\n",
    "    learning_rate = tf.placeholder(tf.float32, name='learning_rate')\n",
    "    keep_prob = tf.placeholder(tf.float32, name = 'keep_prob')\n",
    "    return input_, targets, learning_rate, keep_prob\n",
    "\n",
    "\"\"\"\n",
    "DON'T MODIFY ANYTHING IN THIS CELL THAT IS BELOW THIS LINE\n",
    "\"\"\"\n",
    "tests.test_model_inputs(model_inputs)"
   ]
  },
  {
   "cell_type": "markdown",
   "metadata": {},
   "source": [
    "### 处理解码输入\n",
    "\n",
    "使用 TensorFlow 实现 `process_decoding_input`，以便删掉 `target_data` 中每个批次的最后一个单词 ID，并将 GO ID 放到每个批次的开头。"
   ]
  },
  {
   "cell_type": "code",
   "execution_count": 32,
   "metadata": {},
   "outputs": [
    {
     "name": "stdout",
     "output_type": "stream",
     "text": [
      "Tests Passed\n"
     ]
    }
   ],
   "source": [
    "def process_decoding_input(target_data, target_vocab_to_int, batch_size):\n",
    "    \"\"\"\n",
    "    Preprocess target data for dencoding\n",
    "    :param target_data: Target Placehoder\n",
    "    :param target_vocab_to_int: Dictionary to go from the target words to an id\n",
    "    :param batch_size: Batch Size\n",
    "    :return: Preprocessed target data\n",
    "    \"\"\"\n",
    "    go_id = target_vocab_to_int['<GO>']\n",
    "    go_tensor = tf.fill([batch_size, 1], go_id)\n",
    "    c = tf.strided_slice(target_data, [0,0],[batch_size, -1], [1,1])\n",
    "    c = tf.concat((go_tensor, c),1)\n",
    "    return c\n",
    "\"\"\"\n",
    "DON'T MODIFY ANYTHING IN THIS CELL THAT IS BELOW THIS LINE\n",
    "\"\"\"\n",
    "tests.test_process_decoding_input(process_decoding_input)"
   ]
  },
  {
   "cell_type": "markdown",
   "metadata": {},
   "source": [
    "### 编码\n",
    "\n",
    "实现 `encoding_layer()`，以使用 [`tf.nn.dynamic_rnn()`](https://www.tensorflow.org/api_docs/python/tf/nn/dynamic_rnn) 创建编码器 RNN 层级。"
   ]
  },
  {
   "cell_type": "code",
   "execution_count": 33,
   "metadata": {},
   "outputs": [
    {
     "name": "stdout",
     "output_type": "stream",
     "text": [
      "Tests Passed\n"
     ]
    }
   ],
   "source": [
    "def encoding_layer(rnn_inputs, rnn_size, num_layers, keep_prob):\n",
    "    \"\"\"\n",
    "    Create encoding layer\n",
    "    :param rnn_inputs: Inputs for the RNN\n",
    "    :param rnn_size: RNN Size\n",
    "    :param num_layers: Number of layers\n",
    "    :param keep_prob: Dropout keep probability\n",
    "    :return: RNN state\n",
    "    \"\"\"\n",
    "    # TODO: Implement Function\n",
    "\n",
    "    lstm = tf.contrib.rnn.BasicLSTMCell(rnn_size)\n",
    "    drop = tf.contrib.rnn.DropoutWrapper(lstm, output_keep_prob = keep_prob)\n",
    "    cell = tf.contrib.rnn.MultiRNNCell([drop]*num_layers)\n",
    "    initial_state = cell.zero_state(1, tf.float32) # batch_size is 1?\n",
    "    outputs, final_state = tf.nn.dynamic_rnn(cell, rnn_inputs, dtype = tf.float32)\n",
    "    return final_state\n",
    "\n",
    "\n",
    "\n",
    "\"\"\"\n",
    "DON'T MODIFY ANYTHING IN THIS CELL THAT IS BELOW THIS LINE\n",
    "\"\"\"\n",
    "tests.test_encoding_layer(encoding_layer)"
   ]
  },
  {
   "cell_type": "markdown",
   "metadata": {},
   "source": [
    "### 解码 - 训练\n",
    "\n",
    "使用 [`tf.contrib.seq2seq.simple_decoder_fn_train()`](https://www.tensorflow.org/versions/r1.0/api_docs/python/tf/contrib/seq2seq/simple_decoder_fn_train) 和 [`tf.contrib.seq2seq.dynamic_rnn_decoder()`](https://www.tensorflow.org/versions/r1.0/api_docs/python/tf/contrib/seq2seq/dynamic_rnn_decoder) 创建训练分对数（training logits）。将 `output_fn` 应用到 [`tf.contrib.seq2seq.dynamic_rnn_decoder()`](https://www.tensorflow.org/versions/r1.0/api_docs/python/tf/contrib/seq2seq/dynamic_rnn_decoder) 输出上。"
   ]
  },
  {
   "cell_type": "code",
   "execution_count": 34,
   "metadata": {},
   "outputs": [
    {
     "name": "stdout",
     "output_type": "stream",
     "text": [
      "Tests Passed\n"
     ]
    }
   ],
   "source": [
    "def decoding_layer_train(encoder_state, dec_cell, dec_embed_input, sequence_length, decoding_scope,\n",
    "                         output_fn, keep_prob):\n",
    "    \"\"\"\n",
    "    Create a decoding layer for training\n",
    "    :param encoder_state: Encoder State\n",
    "    :param dec_cell: Decoder RNN Cell\n",
    "    :param dec_embed_input: Decoder embedded input\n",
    "    :param sequence_length: Sequence Length\n",
    "    :param decoding_scope: TenorFlow Variable Scope for decoding\n",
    "    :param output_fn: Function to apply the output layer\n",
    "    :param keep_prob: Dropout keep probability\n",
    "    :return: Train Logits\n",
    "    \"\"\"\n",
    "    # TODO: Implement Function\n",
    "    dynamic_fn_train = tf.contrib.seq2seq.simple_decoder_fn_train(encoder_state)\n",
    "    output, final_state, final_state_context = tf.contrib.seq2seq.dynamic_rnn_decoder(\n",
    "                                           cell = dec_cell, \n",
    "                                           inputs = dec_embed_input, \n",
    "                                           decoder_fn = dynamic_fn_train, \n",
    "                                           sequence_length = sequence_length,\n",
    "                                           scope = decoding_scope)\n",
    "    output = tf.nn.dropout(output, keep_prob = keep_prob)\n",
    "    training_logits =  output_fn(output)\n",
    "    return training_logits\n",
    "\n",
    "\"\"\"\n",
    "DON'T MODIFY ANYTHING IN THIS CELL THAT IS BELOW THIS LINE\n",
    "\"\"\"\n",
    "tests.test_decoding_layer_train(decoding_layer_train)"
   ]
  },
  {
   "cell_type": "markdown",
   "metadata": {},
   "source": [
    "### 解码 - 推论\n",
    "\n",
    "使用 [`tf.contrib.seq2seq.simple_decoder_fn_inference()`](https://www.tensorflow.org/versions/r1.0/api_docs/python/tf/contrib/seq2seq/simple_decoder_fn_inference) 和 [`tf.contrib.seq2seq.dynamic_rnn_decoder()`](https://www.tensorflow.org/versions/r1.0/api_docs/python/tf/contrib/seq2seq/dynamic_rnn_decoder) 创建推论分对数（inference logits）。"
   ]
  },
  {
   "cell_type": "code",
   "execution_count": 35,
   "metadata": {},
   "outputs": [
    {
     "name": "stdout",
     "output_type": "stream",
     "text": [
      "Tests Passed\n"
     ]
    }
   ],
   "source": [
    "def decoding_layer_infer(encoder_state, dec_cell, dec_embeddings, start_of_sequence_id, end_of_sequence_id,\n",
    "                         maximum_length, vocab_size, decoding_scope, output_fn, keep_prob):\n",
    "    \"\"\"\n",
    "    Create a decoding layer for inference\n",
    "    :param encoder_state: Encoder state\n",
    "    :param dec_cell: Decoder RNN Cell\n",
    "    :param dec_embeddings: Decoder embeddings\n",
    "    :param start_of_sequence_id: GO ID\n",
    "    :param end_of_sequence_id: EOS Id\n",
    "    :param maximum_length: The maximum allowed time steps to decode\n",
    "    :param vocab_size: Size of vocabulary\n",
    "    :param decoding_scope: TensorFlow Variable Scope for decoding\n",
    "    :param output_fn: Function to apply the output layer\n",
    "    :param keep_prob: Dropout keep probability\n",
    "    :return: Inference Logits\n",
    "    \"\"\"\n",
    "    # TODO: Implement Function\n",
    "    dynamic_fn_inference = tf.contrib.seq2seq.simple_decoder_fn_inference(output_fn = output_fn,\n",
    "                                                    encoder_state = encoder_state,\n",
    "                                                    embeddings = dec_embeddings,\n",
    "                                                    start_of_sequence_id = start_of_sequence_id,\n",
    "                                                    end_of_sequence_id = end_of_sequence_id,\n",
    "                                                    maximum_length=maximum_length,\n",
    "                                                    num_decoder_symbols = vocab_size,\n",
    "                                                    dtype = tf.int32,\n",
    "                                                    name = None)\n",
    "    output, final_state, final_state_context = tf.contrib.seq2seq.dynamic_rnn_decoder(\n",
    "                                           cell = dec_cell, \n",
    "#                                            inputs = dec_embeddings, \n",
    "                                           decoder_fn = dynamic_fn_inference, \n",
    "#                                            sequence_length = sequence_length,\n",
    "                                           scope = decoding_scope)\n",
    "    return output\n",
    "\n",
    "    \n",
    "\n",
    "\"\"\"\n",
    "DON'T MODIFY ANYTHING IN THIS CELL THAT IS BELOW THIS LINE\n",
    "\"\"\"\n",
    "tests.test_decoding_layer_infer(decoding_layer_infer)"
   ]
  },
  {
   "cell_type": "markdown",
   "metadata": {},
   "source": [
    "### 构建解码层级\n",
    "\n",
    "实现 `decoding_layer()` 以创建解码器 RNN 层级。\n",
    "\n",
    "- 使用 `rnn_size` 和 `num_layers` 创建解码 RNN 单元。\n",
    "- 使用 [`lambda`](https://docs.python.org/3/tutorial/controlflow.html#lambda-expressions) 创建输出函数，将输入，也就是分对数转换为类分对数（class logits）。\n",
    "- 使用 `decoding_layer_train(encoder_state, dec_cell, dec_embed_input, sequence_length, decoding_scope, output_fn, keep_prob)` 函数获取训练分对数。\n",
    "- 使用 `decoding_layer_infer(encoder_state, dec_cell, dec_embeddings, start_of_sequence_id, end_of_sequence_id, maximum_length, vocab_size, decoding_scope, output_fn, keep_prob)` 函数获取推论分对数。\n",
    "\n",
    "注意：你将需要使用 [tf.variable_scope](https://www.tensorflow.org/api_docs/python/tf/variable_scope) 在训练和推论分对数间分享变量。"
   ]
  },
  {
   "cell_type": "code",
   "execution_count": 36,
   "metadata": {},
   "outputs": [
    {
     "name": "stdout",
     "output_type": "stream",
     "text": [
      "Tests Passed\n"
     ]
    }
   ],
   "source": [
    "def decoding_layer(dec_embed_input, dec_embeddings, encoder_state, vocab_size, sequence_length, rnn_size,\n",
    "                   num_layers, target_vocab_to_int, keep_prob):\n",
    "    \"\"\"\n",
    "    Create decoding layer\n",
    "    :param dec_embed_input: Decoder embedded input\n",
    "    :param dec_embeddings: Decoder embeddings\n",
    "    :param encoder_state: The encoded state\n",
    "    :param vocab_size: Size of vocabulary\n",
    "    :param sequence_length: Sequence Length\n",
    "    :param rnn_size: RNN Size\n",
    "    :param num_layers: Number of layers\n",
    "    :param target_vocab_to_int: Dictionary to go from the target words to an id\n",
    "    :param keep_prob: Dropout keep probability\n",
    "    :return: Tuple of (Training Logits, Inference Logits)\n",
    "    \"\"\"\n",
    "    lstm = tf.contrib.rnn.BasicLSTMCell(rnn_size)\n",
    "    decoder_cell = tf.contrib.rnn.MultiRNNCell([lstm]*num_layers)\n",
    "\n",
    "    \n",
    "    with tf.variable_scope('decoder') as decoding_scope:\n",
    "        output_fn = lambda input_ : tf.contrib.layers.fully_connected(\n",
    "            input_, vocab_size, activation_fn = None, scope=decoding_scope)\n",
    "        train_logits = decoding_layer_train(encoder_state,\n",
    "                                            decoder_cell, \n",
    "                                            dec_embed_input, \n",
    "                                            sequence_length, \n",
    "                                            decoding_scope, \n",
    "                                            output_fn, \n",
    "                                            keep_prob)\n",
    "            \n",
    "    with tf.variable_scope('decoder',reuse = True) as decoding_scope:\n",
    "        infer_logits = decoding_layer_infer(encoder_state, \n",
    "                             decoder_cell, \n",
    "                             dec_embeddings, \n",
    "                             target_vocab_to_int['<GO>'],\n",
    "                             target_vocab_to_int['<EOS>'], \n",
    "                             sequence_length,\n",
    "                                            \n",
    "                             vocab_size, \n",
    "                             decoding_scope, \n",
    "                             output_fn = output_fn, \n",
    "                             keep_prob= keep_prob)\n",
    "        \n",
    "    return train_logits, infer_logits\n",
    "\n",
    "\n",
    "\"\"\"\n",
    "DON'T MODIFY ANYTHING IN THIS CELL THAT IS BELOW THIS LINE\n",
    "\"\"\"\n",
    "tests.test_decoding_layer(decoding_layer)"
   ]
  },
  {
   "cell_type": "markdown",
   "metadata": {},
   "source": [
    "### 构建神经网络\n",
    "\n",
    "应用你在上方实现的函数，以：\n",
    "\n",
    "- 向编码器的输入数据应用嵌入。\n",
    "- 使用 `encoding_layer(rnn_inputs, rnn_size, num_layers, keep_prob)` 编码输入。\n",
    "- 使用 `process_decoding_input(target_data, target_vocab_to_int, batch_size)` 函数处理目标数据。\n",
    "- 向解码器的目标数据应用嵌入。\n",
    "- 使用 `decoding_layer(dec_embed_input, dec_embeddings, encoder_state, vocab_size, sequence_length, rnn_size, num_layers, target_vocab_to_int, keep_prob)` 解码编码的输入数据。"
   ]
  },
  {
   "cell_type": "code",
   "execution_count": 37,
   "metadata": {},
   "outputs": [
    {
     "name": "stdout",
     "output_type": "stream",
     "text": [
      "Tests Passed\n"
     ]
    }
   ],
   "source": [
    "def seq2seq_model(input_data, target_data, keep_prob, batch_size, sequence_length, \n",
    "                  source_vocab_size, target_vocab_size,\n",
    "                  enc_embedding_size, dec_embedding_size, rnn_size, num_layers, target_vocab_to_int):\n",
    "    \"\"\"\n",
    "    Build the Sequence-to-Sequence part of the neural network\n",
    "    :param input_data: Input placeholder\n",
    "    :param target_data: Target placeholder\n",
    "    :param keep_prob: Dropout keep probability placeholder\n",
    "    :param batch_size: Batch Size\n",
    "    :param sequence_length: Sequence Length\n",
    "    :param source_vocab_size: Source vocabulary size\n",
    "    :param target_vocab_size: Target vocabulary size\n",
    "    :param enc_embedding_size: Decoder embedding size\n",
    "    :param dec_embedding_size: Encoder embedding size\n",
    "    :param rnn_size: RNN Size\n",
    "    :param num_layers: Number of layers\n",
    "    :param target_vocab_to_int: Dictionary to go from the target words to an id\n",
    "    :return: Tuple of (Training Logits, Inference Logits)\n",
    "    \"\"\"\n",
    "    # TODO: Implement Function\n",
    "    embed_input = tf.contrib.layers.embed_sequence(input_data, \n",
    "                                                   vocab_size = source_vocab_size, \n",
    "                                                   embed_dim = enc_embedding_size)\n",
    "\n",
    "\n",
    "    encoder_state = encoding_layer(embed_input,  rnn_size, num_layers, keep_prob)\n",
    "    target_processed = process_decoding_input(target_data, target_vocab_to_int, batch_size)\n",
    "    dec_embedding = tf.Variable(tf.random_uniform( (target_vocab_size, dec_embedding_size)))\n",
    "    dec_embedded = tf.nn.embedding_lookup(dec_embedding, target_processed)\n",
    "    train_logits, infer_logits = decoding_layer(dec_embedded, dec_embedding, encoder_state, \n",
    "                   target_vocab_size, sequence_length, rnn_size, num_layers, \n",
    "                   target_vocab_to_int, keep_prob)\n",
    "    return train_logits, infer_logits\n",
    "\n",
    "\n",
    "\"\"\"\n",
    "DON'T MODIFY ANYTHING IN THIS CELL THAT IS BELOW THIS LINE\n",
    "\"\"\"\n",
    "tests.test_seq2seq_model(seq2seq_model)"
   ]
  },
  {
   "cell_type": "markdown",
   "metadata": {},
   "source": [
    "## 训练神经网络\n",
    "\n",
    "### 超参数\n",
    "\n",
    "调试以下参数：\n",
    "\n",
    "- 将 `epochs` 设为 epoch 次数。\n",
    "- 将 `batch_size` 设为批次大小。\n",
    "- 将 `rnn_size` 设为 RNN 的大小。\n",
    "- 将 `num_layers` 设为层级数量。\n",
    "- 将 `encoding_embedding_size` 设为编码器嵌入大小。\n",
    "- 将 `decoding_embedding_size` 设为解码器嵌入大小\n",
    "- 将 `learning_rate` 设为训练速率。\n",
    "- 将 `keep_probability` 设为丢弃保留率（Dropout keep probability）。"
   ]
  },
  {
   "cell_type": "code",
   "execution_count": 41,
   "metadata": {
    "collapsed": true
   },
   "outputs": [],
   "source": [
    "# Number of Epochs\n",
    "epochs = 3\n",
    "# Batch Size\n",
    "batch_size = 256\n",
    "# RNN Size\n",
    "rnn_size = 128\n",
    "# Number of Layers\n",
    "num_layers = 2\n",
    "# Embedding Size\n",
    "encoding_embedding_size = 128\n",
    "decoding_embedding_size = 128\n",
    "# Learning Rate\n",
    "learning_rate = 0.01\n",
    "# Dropout Keep Probability\n",
    "keep_probability = 0.75"
   ]
  },
  {
   "cell_type": "markdown",
   "metadata": {},
   "source": [
    "### 构建图表\n",
    "\n",
    "使用你实现的神经网络构建图表。"
   ]
  },
  {
   "cell_type": "code",
   "execution_count": 42,
   "metadata": {},
   "outputs": [],
   "source": [
    "\"\"\"\n",
    "DON'T MODIFY ANYTHING IN THIS CELL\n",
    "\"\"\"\n",
    "save_path = 'checkpoints/dev'\n",
    "(source_int_text, target_int_text), (source_vocab_to_int, target_vocab_to_int), _ = helper.load_preprocess()\n",
    "max_source_sentence_length = max([len(sentence) for sentence in source_int_text])\n",
    "\n",
    "train_graph = tf.Graph()\n",
    "with train_graph.as_default():\n",
    "    input_data, targets, lr, keep_prob = model_inputs()\n",
    "    sequence_length = tf.placeholder_with_default(max_source_sentence_length, None, name='sequence_length')\n",
    "    input_shape = tf.shape(input_data)\n",
    "    \n",
    "    train_logits, inference_logits = seq2seq_model(\n",
    "        tf.reverse(input_data, [-1]), targets, keep_prob, batch_size, sequence_length, len(source_vocab_to_int), len(target_vocab_to_int),\n",
    "        encoding_embedding_size, decoding_embedding_size, rnn_size, num_layers, target_vocab_to_int)\n",
    "\n",
    "    tf.identity(inference_logits, 'logits')\n",
    "    with tf.name_scope(\"optimization\"):\n",
    "        # Loss function\n",
    "        cost = tf.contrib.seq2seq.sequence_loss(\n",
    "            train_logits,\n",
    "            targets,\n",
    "            tf.ones([input_shape[0], sequence_length]))\n",
    "\n",
    "        # Optimizer\n",
    "        optimizer = tf.train.AdamOptimizer(lr)\n",
    "\n",
    "        # Gradient Clipping\n",
    "        gradients = optimizer.compute_gradients(cost)\n",
    "        capped_gradients = [(tf.clip_by_value(grad, -1., 1.), var) for grad, var in gradients if grad is not None]\n",
    "        train_op = optimizer.apply_gradients(capped_gradients)"
   ]
  },
  {
   "cell_type": "markdown",
   "metadata": {},
   "source": [
    "### 训练\n",
    "\n",
    "利用预处理的数据训练神经网络。如果很难获得低损失值，请访问我们的论坛，看看其他人是否遇到了相同的问题。"
   ]
  },
  {
   "cell_type": "code",
   "execution_count": 43,
   "metadata": {
    "scrolled": true
   },
   "outputs": [
    {
     "name": "stdout",
     "output_type": "stream",
     "text": [
      "Epoch   0 Batch    0/538 - Train Accuracy:  0.234, Validation Accuracy:  0.316, Loss:  5.906\n",
      "saved~~\n",
      "Epoch   0 Batch   10/538 - Train Accuracy:  0.300, Validation Accuracy:  0.378, Loss:  3.353\n",
      "Epoch   0 Batch   20/538 - Train Accuracy:  0.350, Validation Accuracy:  0.390, Loss:  2.770\n",
      "Epoch   0 Batch   30/538 - Train Accuracy:  0.389, Validation Accuracy:  0.452, Loss:  2.631\n",
      "Epoch   0 Batch   40/538 - Train Accuracy:  0.512, Validation Accuracy:  0.510, Loss:  2.171\n",
      "Epoch   0 Batch   50/538 - Train Accuracy:  0.454, Validation Accuracy:  0.491, Loss:  2.149\n",
      "Epoch   0 Batch   60/538 - Train Accuracy:  0.485, Validation Accuracy:  0.533, Loss:  2.041\n",
      "Epoch   0 Batch   70/538 - Train Accuracy:  0.530, Validation Accuracy:  0.547, Loss:  1.797\n",
      "Epoch   0 Batch   80/538 - Train Accuracy:  0.505, Validation Accuracy:  0.559, Loss:  1.731\n",
      "Epoch   0 Batch   90/538 - Train Accuracy:  0.523, Validation Accuracy:  0.539, Loss:  1.475\n",
      "Epoch   0 Batch  100/538 - Train Accuracy:  0.523, Validation Accuracy:  0.554, Loss:  1.304\n",
      "saved~~\n",
      "Epoch   0 Batch  110/538 - Train Accuracy:  0.502, Validation Accuracy:  0.550, Loss:  1.262\n",
      "Epoch   0 Batch  120/538 - Train Accuracy:  0.535, Validation Accuracy:  0.577, Loss:  1.094\n",
      "Epoch   0 Batch  130/538 - Train Accuracy:  0.552, Validation Accuracy:  0.576, Loss:  0.982\n",
      "Epoch   0 Batch  140/538 - Train Accuracy:  0.524, Validation Accuracy:  0.582, Loss:  1.006\n",
      "Epoch   0 Batch  150/538 - Train Accuracy:  0.574, Validation Accuracy:  0.583, Loss:  0.880\n",
      "Epoch   0 Batch  160/538 - Train Accuracy:  0.571, Validation Accuracy:  0.597, Loss:  0.805\n",
      "Epoch   0 Batch  170/538 - Train Accuracy:  0.575, Validation Accuracy:  0.604, Loss:  0.792\n",
      "Epoch   0 Batch  180/538 - Train Accuracy:  0.614, Validation Accuracy:  0.605, Loss:  0.749\n",
      "Epoch   0 Batch  190/538 - Train Accuracy:  0.592, Validation Accuracy:  0.611, Loss:  0.749\n",
      "Epoch   0 Batch  200/538 - Train Accuracy:  0.610, Validation Accuracy:  0.629, Loss:  0.699\n",
      "saved~~\n",
      "Epoch   0 Batch  210/538 - Train Accuracy:  0.609, Validation Accuracy:  0.624, Loss:  0.672\n",
      "Epoch   0 Batch  220/538 - Train Accuracy:  0.608, Validation Accuracy:  0.635, Loss:  0.648\n",
      "Epoch   0 Batch  230/538 - Train Accuracy:  0.609, Validation Accuracy:  0.638, Loss:  0.658\n",
      "Epoch   0 Batch  240/538 - Train Accuracy:  0.641, Validation Accuracy:  0.656, Loss:  0.634\n",
      "Epoch   0 Batch  250/538 - Train Accuracy:  0.645, Validation Accuracy:  0.654, Loss:  0.613\n",
      "Epoch   0 Batch  260/538 - Train Accuracy:  0.647, Validation Accuracy:  0.673, Loss:  0.571\n",
      "Epoch   0 Batch  270/538 - Train Accuracy:  0.655, Validation Accuracy:  0.666, Loss:  0.573\n",
      "Epoch   0 Batch  280/538 - Train Accuracy:  0.713, Validation Accuracy:  0.667, Loss:  0.510\n",
      "Epoch   0 Batch  290/538 - Train Accuracy:  0.660, Validation Accuracy:  0.673, Loss:  0.512\n",
      "Epoch   0 Batch  300/538 - Train Accuracy:  0.699, Validation Accuracy:  0.676, Loss:  0.497\n",
      "saved~~\n",
      "Epoch   0 Batch  310/538 - Train Accuracy:  0.689, Validation Accuracy:  0.681, Loss:  0.505\n",
      "Epoch   0 Batch  320/538 - Train Accuracy:  0.660, Validation Accuracy:  0.661, Loss:  0.467\n",
      "Epoch   0 Batch  330/538 - Train Accuracy:  0.687, Validation Accuracy:  0.691, Loss:  0.438\n",
      "Epoch   0 Batch  340/538 - Train Accuracy:  0.679, Validation Accuracy:  0.694, Loss:  0.477\n",
      "Epoch   0 Batch  350/538 - Train Accuracy:  0.691, Validation Accuracy:  0.711, Loss:  0.436\n",
      "Epoch   0 Batch  360/538 - Train Accuracy:  0.689, Validation Accuracy:  0.696, Loss:  0.435\n",
      "Epoch   0 Batch  370/538 - Train Accuracy:  0.684, Validation Accuracy:  0.702, Loss:  0.423\n",
      "Epoch   0 Batch  380/538 - Train Accuracy:  0.672, Validation Accuracy:  0.681, Loss:  0.395\n",
      "Epoch   0 Batch  390/538 - Train Accuracy:  0.751, Validation Accuracy:  0.708, Loss:  0.364\n",
      "Epoch   0 Batch  400/538 - Train Accuracy:  0.715, Validation Accuracy:  0.718, Loss:  0.377\n",
      "saved~~\n",
      "Epoch   0 Batch  410/538 - Train Accuracy:  0.744, Validation Accuracy:  0.713, Loss:  0.362\n",
      "Epoch   0 Batch  420/538 - Train Accuracy:  0.747, Validation Accuracy:  0.732, Loss:  0.344\n",
      "Epoch   0 Batch  430/538 - Train Accuracy:  0.759, Validation Accuracy:  0.761, Loss:  0.332\n",
      "Epoch   0 Batch  440/538 - Train Accuracy:  0.773, Validation Accuracy:  0.747, Loss:  0.346\n",
      "Epoch   0 Batch  450/538 - Train Accuracy:  0.765, Validation Accuracy:  0.754, Loss:  0.316\n",
      "Epoch   0 Batch  460/538 - Train Accuracy:  0.746, Validation Accuracy:  0.776, Loss:  0.301\n",
      "Epoch   0 Batch  470/538 - Train Accuracy:  0.768, Validation Accuracy:  0.779, Loss:  0.290\n",
      "Epoch   0 Batch  480/538 - Train Accuracy:  0.800, Validation Accuracy:  0.768, Loss:  0.274\n",
      "Epoch   0 Batch  490/538 - Train Accuracy:  0.789, Validation Accuracy:  0.799, Loss:  0.271\n",
      "Epoch   0 Batch  500/538 - Train Accuracy:  0.811, Validation Accuracy:  0.780, Loss:  0.245\n",
      "saved~~\n",
      "Epoch   0 Batch  510/538 - Train Accuracy:  0.785, Validation Accuracy:  0.776, Loss:  0.253\n",
      "Epoch   0 Batch  520/538 - Train Accuracy:  0.779, Validation Accuracy:  0.776, Loss:  0.267\n",
      "Epoch   0 Batch  530/538 - Train Accuracy:  0.796, Validation Accuracy:  0.775, Loss:  0.260\n",
      "Epoch   1 Batch    0/538 - Train Accuracy:  0.791, Validation Accuracy:  0.815, Loss:  0.244\n",
      "saved~~\n",
      "Epoch   1 Batch   10/538 - Train Accuracy:  0.801, Validation Accuracy:  0.808, Loss:  0.252\n",
      "Epoch   1 Batch   20/538 - Train Accuracy:  0.810, Validation Accuracy:  0.835, Loss:  0.243\n",
      "Epoch   1 Batch   30/538 - Train Accuracy:  0.806, Validation Accuracy:  0.819, Loss:  0.243\n",
      "Epoch   1 Batch   40/538 - Train Accuracy:  0.855, Validation Accuracy:  0.831, Loss:  0.193\n",
      "Epoch   1 Batch   50/538 - Train Accuracy:  0.854, Validation Accuracy:  0.830, Loss:  0.201\n",
      "Epoch   1 Batch   60/538 - Train Accuracy:  0.850, Validation Accuracy:  0.842, Loss:  0.214\n",
      "Epoch   1 Batch   70/538 - Train Accuracy:  0.833, Validation Accuracy:  0.826, Loss:  0.187\n",
      "Epoch   1 Batch   80/538 - Train Accuracy:  0.843, Validation Accuracy:  0.849, Loss:  0.207\n",
      "Epoch   1 Batch   90/538 - Train Accuracy:  0.827, Validation Accuracy:  0.842, Loss:  0.193\n",
      "Epoch   1 Batch  100/538 - Train Accuracy:  0.869, Validation Accuracy:  0.848, Loss:  0.166\n",
      "saved~~\n",
      "Epoch   1 Batch  110/538 - Train Accuracy:  0.850, Validation Accuracy:  0.864, Loss:  0.187\n",
      "Epoch   1 Batch  120/538 - Train Accuracy:  0.881, Validation Accuracy:  0.849, Loss:  0.157\n",
      "Epoch   1 Batch  130/538 - Train Accuracy:  0.888, Validation Accuracy:  0.869, Loss:  0.148\n",
      "Epoch   1 Batch  140/538 - Train Accuracy:  0.866, Validation Accuracy:  0.860, Loss:  0.173\n",
      "Epoch   1 Batch  150/538 - Train Accuracy:  0.869, Validation Accuracy:  0.863, Loss:  0.156\n",
      "Epoch   1 Batch  160/538 - Train Accuracy:  0.866, Validation Accuracy:  0.874, Loss:  0.148\n",
      "Epoch   1 Batch  170/538 - Train Accuracy:  0.859, Validation Accuracy:  0.852, Loss:  0.162\n",
      "Epoch   1 Batch  180/538 - Train Accuracy:  0.882, Validation Accuracy:  0.851, Loss:  0.146\n",
      "Epoch   1 Batch  190/538 - Train Accuracy:  0.856, Validation Accuracy:  0.880, Loss:  0.173\n",
      "Epoch   1 Batch  200/538 - Train Accuracy:  0.883, Validation Accuracy:  0.875, Loss:  0.134\n",
      "saved~~\n",
      "Epoch   1 Batch  210/538 - Train Accuracy:  0.862, Validation Accuracy:  0.863, Loss:  0.137\n",
      "Epoch   1 Batch  220/538 - Train Accuracy:  0.856, Validation Accuracy:  0.851, Loss:  0.137\n",
      "Epoch   1 Batch  230/538 - Train Accuracy:  0.879, Validation Accuracy:  0.880, Loss:  0.133\n",
      "Epoch   1 Batch  240/538 - Train Accuracy:  0.877, Validation Accuracy:  0.880, Loss:  0.138\n",
      "Epoch   1 Batch  250/538 - Train Accuracy:  0.899, Validation Accuracy:  0.871, Loss:  0.124\n",
      "Epoch   1 Batch  260/538 - Train Accuracy:  0.847, Validation Accuracy:  0.881, Loss:  0.134\n",
      "Epoch   1 Batch  270/538 - Train Accuracy:  0.883, Validation Accuracy:  0.884, Loss:  0.115\n",
      "Epoch   1 Batch  280/538 - Train Accuracy:  0.895, Validation Accuracy:  0.881, Loss:  0.111\n",
      "Epoch   1 Batch  290/538 - Train Accuracy:  0.900, Validation Accuracy:  0.880, Loss:  0.106\n",
      "Epoch   1 Batch  300/538 - Train Accuracy:  0.887, Validation Accuracy:  0.901, Loss:  0.111\n",
      "saved~~\n",
      "Epoch   1 Batch  310/538 - Train Accuracy:  0.927, Validation Accuracy:  0.896, Loss:  0.118\n",
      "Epoch   1 Batch  320/538 - Train Accuracy:  0.895, Validation Accuracy:  0.902, Loss:  0.107\n",
      "Epoch   1 Batch  330/538 - Train Accuracy:  0.913, Validation Accuracy:  0.885, Loss:  0.106\n"
     ]
    },
    {
     "name": "stdout",
     "output_type": "stream",
     "text": [
      "Epoch   1 Batch  340/538 - Train Accuracy:  0.883, Validation Accuracy:  0.891, Loss:  0.115\n",
      "Epoch   1 Batch  350/538 - Train Accuracy:  0.925, Validation Accuracy:  0.889, Loss:  0.114\n",
      "Epoch   1 Batch  360/538 - Train Accuracy:  0.901, Validation Accuracy:  0.886, Loss:  0.105\n",
      "Epoch   1 Batch  370/538 - Train Accuracy:  0.910, Validation Accuracy:  0.892, Loss:  0.102\n",
      "Epoch   1 Batch  380/538 - Train Accuracy:  0.895, Validation Accuracy:  0.888, Loss:  0.094\n",
      "Epoch   1 Batch  390/538 - Train Accuracy:  0.903, Validation Accuracy:  0.893, Loss:  0.088\n",
      "Epoch   1 Batch  400/538 - Train Accuracy:  0.896, Validation Accuracy:  0.889, Loss:  0.103\n",
      "saved~~\n",
      "Epoch   1 Batch  410/538 - Train Accuracy:  0.903, Validation Accuracy:  0.898, Loss:  0.097\n",
      "Epoch   1 Batch  420/538 - Train Accuracy:  0.909, Validation Accuracy:  0.912, Loss:  0.088\n",
      "Epoch   1 Batch  430/538 - Train Accuracy:  0.898, Validation Accuracy:  0.886, Loss:  0.087\n",
      "Epoch   1 Batch  440/538 - Train Accuracy:  0.905, Validation Accuracy:  0.906, Loss:  0.099\n",
      "Epoch   1 Batch  450/538 - Train Accuracy:  0.904, Validation Accuracy:  0.900, Loss:  0.099\n",
      "Epoch   1 Batch  460/538 - Train Accuracy:  0.882, Validation Accuracy:  0.894, Loss:  0.089\n",
      "Epoch   1 Batch  470/538 - Train Accuracy:  0.915, Validation Accuracy:  0.899, Loss:  0.077\n",
      "Epoch   1 Batch  480/538 - Train Accuracy:  0.921, Validation Accuracy:  0.904, Loss:  0.078\n",
      "Epoch   1 Batch  490/538 - Train Accuracy:  0.918, Validation Accuracy:  0.904, Loss:  0.074\n",
      "Epoch   1 Batch  500/538 - Train Accuracy:  0.931, Validation Accuracy:  0.897, Loss:  0.065\n",
      "saved~~\n",
      "Epoch   1 Batch  510/538 - Train Accuracy:  0.910, Validation Accuracy:  0.892, Loss:  0.077\n",
      "Epoch   1 Batch  520/538 - Train Accuracy:  0.921, Validation Accuracy:  0.900, Loss:  0.082\n",
      "Epoch   1 Batch  530/538 - Train Accuracy:  0.902, Validation Accuracy:  0.910, Loss:  0.082\n",
      "Epoch   2 Batch    0/538 - Train Accuracy:  0.933, Validation Accuracy:  0.910, Loss:  0.071\n",
      "saved~~\n",
      "Epoch   2 Batch   10/538 - Train Accuracy:  0.921, Validation Accuracy:  0.898, Loss:  0.086\n",
      "Epoch   2 Batch   20/538 - Train Accuracy:  0.919, Validation Accuracy:  0.911, Loss:  0.078\n",
      "Epoch   2 Batch   30/538 - Train Accuracy:  0.909, Validation Accuracy:  0.907, Loss:  0.079\n",
      "Epoch   2 Batch   40/538 - Train Accuracy:  0.927, Validation Accuracy:  0.918, Loss:  0.060\n",
      "Epoch   2 Batch   50/538 - Train Accuracy:  0.928, Validation Accuracy:  0.897, Loss:  0.064\n",
      "Epoch   2 Batch   60/538 - Train Accuracy:  0.923, Validation Accuracy:  0.900, Loss:  0.063\n",
      "Epoch   2 Batch   70/538 - Train Accuracy:  0.911, Validation Accuracy:  0.906, Loss:  0.062\n",
      "Epoch   2 Batch   80/538 - Train Accuracy:  0.921, Validation Accuracy:  0.904, Loss:  0.068\n",
      "Epoch   2 Batch   90/538 - Train Accuracy:  0.909, Validation Accuracy:  0.913, Loss:  0.073\n",
      "Epoch   2 Batch  100/538 - Train Accuracy:  0.930, Validation Accuracy:  0.901, Loss:  0.064\n",
      "saved~~\n",
      "Epoch   2 Batch  110/538 - Train Accuracy:  0.927, Validation Accuracy:  0.911, Loss:  0.066\n",
      "Epoch   2 Batch  120/538 - Train Accuracy:  0.938, Validation Accuracy:  0.911, Loss:  0.053\n",
      "Epoch   2 Batch  130/538 - Train Accuracy:  0.926, Validation Accuracy:  0.893, Loss:  0.059\n",
      "Epoch   2 Batch  140/538 - Train Accuracy:  0.924, Validation Accuracy:  0.903, Loss:  0.088\n",
      "Epoch   2 Batch  150/538 - Train Accuracy:  0.928, Validation Accuracy:  0.926, Loss:  0.062\n",
      "Epoch   2 Batch  160/538 - Train Accuracy:  0.901, Validation Accuracy:  0.908, Loss:  0.065\n",
      "Epoch   2 Batch  170/538 - Train Accuracy:  0.935, Validation Accuracy:  0.911, Loss:  0.069\n",
      "Epoch   2 Batch  180/538 - Train Accuracy:  0.930, Validation Accuracy:  0.904, Loss:  0.056\n",
      "Epoch   2 Batch  190/538 - Train Accuracy:  0.914, Validation Accuracy:  0.915, Loss:  0.075\n",
      "Epoch   2 Batch  200/538 - Train Accuracy:  0.940, Validation Accuracy:  0.929, Loss:  0.054\n",
      "saved~~\n",
      "Epoch   2 Batch  210/538 - Train Accuracy:  0.917, Validation Accuracy:  0.908, Loss:  0.068\n",
      "Epoch   2 Batch  220/538 - Train Accuracy:  0.913, Validation Accuracy:  0.898, Loss:  0.060\n",
      "Epoch   2 Batch  230/538 - Train Accuracy:  0.916, Validation Accuracy:  0.920, Loss:  0.057\n",
      "Epoch   2 Batch  240/538 - Train Accuracy:  0.933, Validation Accuracy:  0.924, Loss:  0.054\n",
      "Epoch   2 Batch  250/538 - Train Accuracy:  0.927, Validation Accuracy:  0.889, Loss:  0.052\n",
      "Epoch   2 Batch  260/538 - Train Accuracy:  0.897, Validation Accuracy:  0.911, Loss:  0.061\n",
      "Epoch   2 Batch  270/538 - Train Accuracy:  0.938, Validation Accuracy:  0.916, Loss:  0.046\n",
      "Epoch   2 Batch  280/538 - Train Accuracy:  0.942, Validation Accuracy:  0.914, Loss:  0.041\n",
      "Epoch   2 Batch  290/538 - Train Accuracy:  0.958, Validation Accuracy:  0.923, Loss:  0.046\n",
      "Epoch   2 Batch  300/538 - Train Accuracy:  0.926, Validation Accuracy:  0.919, Loss:  0.055\n",
      "saved~~\n",
      "Epoch   2 Batch  310/538 - Train Accuracy:  0.954, Validation Accuracy:  0.938, Loss:  0.060\n",
      "Epoch   2 Batch  320/538 - Train Accuracy:  0.934, Validation Accuracy:  0.917, Loss:  0.047\n",
      "Epoch   2 Batch  330/538 - Train Accuracy:  0.953, Validation Accuracy:  0.927, Loss:  0.046\n",
      "Epoch   2 Batch  340/538 - Train Accuracy:  0.923, Validation Accuracy:  0.926, Loss:  0.057\n",
      "Epoch   2 Batch  350/538 - Train Accuracy:  0.939, Validation Accuracy:  0.901, Loss:  0.061\n",
      "Epoch   2 Batch  360/538 - Train Accuracy:  0.933, Validation Accuracy:  0.911, Loss:  0.050\n",
      "Epoch   2 Batch  370/538 - Train Accuracy:  0.942, Validation Accuracy:  0.918, Loss:  0.053\n",
      "Epoch   2 Batch  380/538 - Train Accuracy:  0.929, Validation Accuracy:  0.925, Loss:  0.049\n",
      "Epoch   2 Batch  390/538 - Train Accuracy:  0.930, Validation Accuracy:  0.910, Loss:  0.045\n",
      "Epoch   2 Batch  400/538 - Train Accuracy:  0.944, Validation Accuracy:  0.927, Loss:  0.056\n",
      "saved~~\n",
      "Epoch   2 Batch  410/538 - Train Accuracy:  0.950, Validation Accuracy:  0.922, Loss:  0.052\n",
      "Epoch   2 Batch  420/538 - Train Accuracy:  0.948, Validation Accuracy:  0.927, Loss:  0.054\n",
      "Epoch   2 Batch  430/538 - Train Accuracy:  0.930, Validation Accuracy:  0.932, Loss:  0.049\n",
      "Epoch   2 Batch  440/538 - Train Accuracy:  0.941, Validation Accuracy:  0.912, Loss:  0.058\n",
      "Epoch   2 Batch  450/538 - Train Accuracy:  0.920, Validation Accuracy:  0.931, Loss:  0.060\n",
      "Epoch   2 Batch  460/538 - Train Accuracy:  0.929, Validation Accuracy:  0.917, Loss:  0.054\n",
      "Epoch   2 Batch  470/538 - Train Accuracy:  0.937, Validation Accuracy:  0.907, Loss:  0.046\n",
      "Epoch   2 Batch  480/538 - Train Accuracy:  0.944, Validation Accuracy:  0.925, Loss:  0.045\n",
      "Epoch   2 Batch  490/538 - Train Accuracy:  0.937, Validation Accuracy:  0.925, Loss:  0.047\n",
      "Epoch   2 Batch  500/538 - Train Accuracy:  0.948, Validation Accuracy:  0.917, Loss:  0.037\n",
      "saved~~\n",
      "Epoch   2 Batch  510/538 - Train Accuracy:  0.953, Validation Accuracy:  0.920, Loss:  0.044\n",
      "Epoch   2 Batch  520/538 - Train Accuracy:  0.936, Validation Accuracy:  0.919, Loss:  0.053\n",
      "Epoch   2 Batch  530/538 - Train Accuracy:  0.921, Validation Accuracy:  0.942, Loss:  0.054\n",
      "Model Trained and Saved\n"
     ]
    }
   ],
   "source": [
    "\"\"\"\n",
    "DON'T MODIFY ANYTHING IN THIS CELL\n",
    "\"\"\"\n",
    "import time\n",
    "\n",
    "def get_accuracy(target, logits):\n",
    "    \"\"\"\n",
    "    Calculate accuracy\n",
    "    \"\"\"\n",
    "    max_seq = max(target.shape[1], logits.shape[1])\n",
    "    if max_seq - target.shape[1]:\n",
    "        target = np.pad(\n",
    "            target,\n",
    "            [(0,0),(0,max_seq - target.shape[1])],\n",
    "            'constant')\n",
    "    if max_seq - logits.shape[1]:\n",
    "        logits = np.pad(\n",
    "            logits,\n",
    "            [(0,0),(0,max_seq - logits.shape[1]), (0,0)],\n",
    "            'constant')\n",
    "\n",
    "    return np.mean(np.equal(target, np.argmax(logits, 2)))\n",
    "\n",
    "train_source = source_int_text[batch_size:]\n",
    "train_target = target_int_text[batch_size:]\n",
    "\n",
    "valid_source = helper.pad_sentence_batch(source_int_text[:batch_size])\n",
    "valid_target = helper.pad_sentence_batch(target_int_text[:batch_size])\n",
    "\n",
    "with tf.Session(graph=train_graph) as sess:\n",
    "    sess.run(tf.global_variables_initializer())\n",
    "    \n",
    "    for epoch_i in range(epochs):\n",
    "        for batch_i, (source_batch, target_batch) in enumerate(\n",
    "                helper.batch_data(train_source, train_target, batch_size)):\n",
    "            start_time = time.time()\n",
    "            \n",
    "            _, loss = sess.run(\n",
    "                [train_op, cost],\n",
    "                {input_data: source_batch,\n",
    "                 targets: target_batch,\n",
    "                 lr: learning_rate,\n",
    "                 sequence_length: target_batch.shape[1],\n",
    "                 keep_prob: keep_probability})\n",
    "            \n",
    "            batch_train_logits = sess.run(\n",
    "                inference_logits,\n",
    "                {input_data: source_batch, keep_prob: 1.0})\n",
    "            batch_valid_logits = sess.run(\n",
    "                inference_logits,\n",
    "                {input_data: valid_source, keep_prob: 1.0})\n",
    "                \n",
    "            train_acc = get_accuracy(target_batch, batch_train_logits)\n",
    "            valid_acc = get_accuracy(np.array(valid_target), batch_valid_logits)\n",
    "            end_time = time.time()\n",
    "            if batch_i %10 ==0:\n",
    "                print('Epoch {:>3} Batch {:>4}/{} - Train Accuracy: {:>6.3f}, Validation Accuracy: {:>6.3f}, Loss: {:>6.3f}'\n",
    "                  .format(epoch_i, batch_i, len(source_int_text) // batch_size, train_acc, valid_acc, loss))\n",
    "            if batch_i %100 == 0:\n",
    "                saver = tf.train.Saver()\n",
    "                saver.save(sess, save_path)\n",
    "                print('saved~~')\n",
    "    # Save Model\n",
    "    saver = tf.train.Saver()\n",
    "    saver.save(sess, save_path)\n",
    "    print('Model Trained and Saved')"
   ]
  },
  {
   "cell_type": "markdown",
   "metadata": {},
   "source": [
    "### 保存参数\n",
    "\n",
    "保存 `batch_size` 和 `save_path` 参数以进行推论（for inference）。"
   ]
  },
  {
   "cell_type": "code",
   "execution_count": 44,
   "metadata": {
    "collapsed": true
   },
   "outputs": [],
   "source": [
    "\"\"\"\n",
    "DON'T MODIFY ANYTHING IN THIS CELL\n",
    "\"\"\"\n",
    "# Save parameters for checkpoint\n",
    "helper.save_params(save_path)"
   ]
  },
  {
   "cell_type": "markdown",
   "metadata": {},
   "source": [
    "# 检查点"
   ]
  },
  {
   "cell_type": "code",
   "execution_count": 45,
   "metadata": {
    "collapsed": true
   },
   "outputs": [],
   "source": [
    "\"\"\"\n",
    "DON'T MODIFY ANYTHING IN THIS CELL\n",
    "\"\"\"\n",
    "import tensorflow as tf\n",
    "import numpy as np\n",
    "import helper\n",
    "import problem_unittests as tests\n",
    "\n",
    "_, (source_vocab_to_int, target_vocab_to_int), (source_int_to_vocab, target_int_to_vocab) = helper.load_preprocess()\n",
    "load_path = helper.load_params()"
   ]
  },
  {
   "cell_type": "markdown",
   "metadata": {},
   "source": [
    "## 句子到序列\n",
    "\n",
    "要向模型提供要翻译的句子，你首先需要预处理该句子。实现函数 `sentence_to_seq()` 以预处理新的句子。\n",
    "\n",
    "- 将句子转换为小写形式\n",
    "- 使用 `vocab_to_int` 将单词转换为 id\n",
    " - 如果单词不在词汇表中，将其转换为`<UNK>` 单词 id"
   ]
  },
  {
   "cell_type": "code",
   "execution_count": 46,
   "metadata": {},
   "outputs": [
    {
     "name": "stdout",
     "output_type": "stream",
     "text": [
      "Tests Passed\n"
     ]
    }
   ],
   "source": [
    "def sentence_to_seq(sentence, vocab_to_int):\n",
    "    \"\"\"\n",
    "    Convert a sentence to a sequence of ids\n",
    "    :param sentence: String\n",
    "    :param vocab_to_int: Dictionary to go from the words to an id\n",
    "    :return: List of word ids\n",
    "    \"\"\"\n",
    "    # TODO: Implement Function\n",
    "    setence = sentence.lower()\n",
    "    words = sentence.split()\n",
    "    words_ints = []\n",
    "    for word in words:\n",
    "        if word in vocab_to_int:\n",
    "            words_ints.append(vocab_to_int[word])\n",
    "        else:\n",
    "            words_ints.append(vocab_to_int['<UNK>'])\n",
    "    return words_ints\n",
    "\n",
    "\n",
    "\"\"\"\n",
    "DON'T MODIFY ANYTHING IN THIS CELL THAT IS BELOW THIS LINE\n",
    "\"\"\"\n",
    "tests.test_sentence_to_seq(sentence_to_seq)"
   ]
  },
  {
   "cell_type": "markdown",
   "metadata": {},
   "source": [
    "## 翻译\n",
    "\n",
    "将 `translate_sentence` 从英语翻译成法语。"
   ]
  },
  {
   "cell_type": "code",
   "execution_count": 47,
   "metadata": {},
   "outputs": [
    {
     "name": "stdout",
     "output_type": "stream",
     "text": [
      "Input\n",
      "  Word Ids:      [133, 40, 167, 108, 14, 126, 63]\n",
      "  English Words: ['he', 'saw', 'a', 'old', 'yellow', 'truck', '.']\n",
      "\n",
      "Prediction\n",
      "  Word Ids:      [32, 170, 309, 209, 69, 22, 232, 0, 0, 0, 0, 0, 0, 0, 0, 0, 0, 0]\n",
      "  French Words: ['il', 'a', 'vu', 'un', 'vieux', 'camion', 'et', '<PAD>', '<PAD>', '<PAD>', '<PAD>', '<PAD>', '<PAD>', '<PAD>', '<PAD>', '<PAD>', '<PAD>', '<PAD>']\n"
     ]
    }
   ],
   "source": [
    "translate_sentence = 'he saw a old yellow truck .'\n",
    "\n",
    "\n",
    "\"\"\"\n",
    "DON'T MODIFY ANYTHING IN THIS CELL\n",
    "\"\"\"\n",
    "translate_sentence = sentence_to_seq(translate_sentence, source_vocab_to_int)\n",
    "\n",
    "loaded_graph = tf.Graph()\n",
    "with tf.Session(graph=loaded_graph) as sess:\n",
    "    # Load saved model\n",
    "    loader = tf.train.import_meta_graph(load_path + '.meta')\n",
    "    loader.restore(sess, load_path)\n",
    "\n",
    "    input_data = loaded_graph.get_tensor_by_name('input:0')\n",
    "    logits = loaded_graph.get_tensor_by_name('logits:0')\n",
    "    keep_prob = loaded_graph.get_tensor_by_name('keep_prob:0')\n",
    "\n",
    "    translate_logits = sess.run(logits, {input_data: [translate_sentence], keep_prob: 1.0})[0]\n",
    "\n",
    "print('Input')\n",
    "print('  Word Ids:      {}'.format([i for i in translate_sentence]))\n",
    "print('  English Words: {}'.format([source_int_to_vocab[i] for i in translate_sentence]))\n",
    "\n",
    "print('\\nPrediction')\n",
    "print('  Word Ids:      {}'.format([i for i in np.argmax(translate_logits, 1)]))\n",
    "print('  French Words: {}'.format([target_int_to_vocab[i] for i in np.argmax(translate_logits, 1)]))"
   ]
  },
  {
   "cell_type": "code",
   "execution_count": null,
   "metadata": {
    "collapsed": true
   },
   "outputs": [],
   "source": []
  },
  {
   "cell_type": "markdown",
   "metadata": {},
   "source": [
    "## 不完美的翻译\n",
    "\n",
    "你可能注意到了，某些句子的翻译质量比其他的要好。因为你使用的数据集只有 227 个英语单词，但实际生活中有数千个单词，只有使用这些单词的句子结果才会比较理想。对于此项目，不需要达到完美的翻译。但是，如果你想创建更好的翻译模型，则需要更好的数据。\n",
    "\n",
    "你可以使用 [WMT10 French-English corpus](http://www.statmt.org/wmt10/training-giga-fren.tar) 语料库训练模型。该数据集拥有更多的词汇，讨论的话题也更丰富。但是，训练时间要好多天的时间，所以确保你有 GPU 并且对于我们提供的数据集，你的神经网络性能很棒。提交此项目后，别忘了研究下 WMT10 语料库。\n",
    "\n",
    "\n",
    "## 提交项目\n",
    "\n",
    "提交项目时，确保先运行所有单元，然后再保存记事本。保存记事本文件为 “dlnd_language_translation.ipynb”，再通过菜单中的“文件” ->“下载为”将其另存为 HTML 格式。提交的项目文档中需包含“helper.py”和“problem_unittests.py”文件。\n"
   ]
  }
 ],
 "metadata": {
  "kernelspec": {
   "display_name": "Python 3",
   "language": "python",
   "name": "python3"
  },
  "language_info": {
   "codemirror_mode": {
    "name": "ipython",
    "version": 3
   },
   "file_extension": ".py",
   "mimetype": "text/x-python",
   "name": "python",
   "nbconvert_exporter": "python",
   "pygments_lexer": "ipython3",
   "version": "3.5.2"
  }
 },
 "nbformat": 4,
 "nbformat_minor": 1
}
